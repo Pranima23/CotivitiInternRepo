{
 "cells": [
  {
   "cell_type": "markdown",
   "id": "5cfd565e",
   "metadata": {},
   "source": [
    "# Python Programming Language - Advanced Concepts"
   ]
  },
  {
   "cell_type": "markdown",
   "id": "3269707a",
   "metadata": {},
   "source": [
    "## Module 11: Iterators and Generators"
   ]
  },
  {
   "cell_type": "markdown",
   "id": "279360dd",
   "metadata": {},
   "source": [
    "### Iterators\n",
    "Iterators are methods that iterate over iterable collections like lists, tuples, etc. Using an iterator method, we can loop through an object and return its elements.\n",
    "\n"
   ]
  },
  {
   "cell_type": "markdown",
   "id": "0faed024",
   "metadata": {},
   "source": [
    "#### iter() and next()\n",
    "Let us create an iterator from a list using iter() method. Then, let us use the next() function to retrieve the elements of the iterator in sequential order."
   ]
  },
  {
   "cell_type": "code",
   "execution_count": 1,
   "id": "066861cc",
   "metadata": {},
   "outputs": [
    {
     "name": "stdout",
     "output_type": "stream",
     "text": [
      "1\n",
      "2\n",
      "3\n"
     ]
    },
    {
     "ename": "StopIteration",
     "evalue": "",
     "output_type": "error",
     "traceback": [
      "\u001b[1;31m---------------------------------------------------------------------------\u001b[0m",
      "\u001b[1;31mStopIteration\u001b[0m                             Traceback (most recent call last)",
      "Cell \u001b[1;32mIn[1], line 16\u001b[0m\n\u001b[0;32m     13\u001b[0m \u001b[38;5;28mprint\u001b[39m(\u001b[38;5;28mnext\u001b[39m(iterator))\n\u001b[0;32m     15\u001b[0m \u001b[38;5;66;03m#iterating after reaching the end of iterators gets us StopIteration exception\u001b[39;00m\n\u001b[1;32m---> 16\u001b[0m \u001b[38;5;28mprint\u001b[39m(\u001b[38;5;28;43mnext\u001b[39;49m\u001b[43m(\u001b[49m\u001b[43miterator\u001b[49m\u001b[43m)\u001b[49m)\n",
      "\u001b[1;31mStopIteration\u001b[0m: "
     ]
    }
   ],
   "source": [
    "my_list = [1, 2, 3]\n",
    "\n",
    "#create an iterator form the list using iter()\n",
    "iterator = iter(my_list)\n",
    "\n",
    "#get the first element of the iterator\n",
    "print(next(iterator))\n",
    "\n",
    "#get the second element of the iterator\n",
    "print(next(iterator))\n",
    "\n",
    "#get the third element of the iterator\n",
    "print(next(iterator))\n",
    "\n",
    "#iterating after reaching the end of iterators gets us StopIteration exception\n",
    "print(next(iterator))"
   ]
  },
  {
   "cell_type": "markdown",
   "id": "24ac0c5c",
   "metadata": {},
   "source": [
    "The implementation of each iterator object must consist of an __iter__() and __next__() method. In addition to the prerequisite above, the implementation must also have a way to track the object's internal state and raise a StopIteration exception once no more values can be returned. These rules are known as the iterator protocol. "
   ]
  },
  {
   "cell_type": "markdown",
   "id": "33a7dfe8",
   "metadata": {},
   "source": [
    "#### For loop for iterators\n",
    "Python automatically produces an iterator object whenever you attempt to loop through an iterable object. "
   ]
  },
  {
   "cell_type": "code",
   "execution_count": 13,
   "id": "fa652fa2",
   "metadata": {},
   "outputs": [
    {
     "name": "stdout",
     "output_type": "stream",
     "text": [
      "1\n",
      "2\n",
      "3\n",
      "4\n"
     ]
    }
   ],
   "source": [
    "my_list1 = [1, 2, 3, 4]\n",
    "\n",
    "\n",
    "#iterate through the elements of the list\n",
    "for element in my_list1:\n",
    "    print(element)"
   ]
  },
  {
   "cell_type": "markdown",
   "id": "e5c84587",
   "metadata": {},
   "source": [
    "### __iter__() and __next()__ methods\n",
    "- __iter__() returns the iterator object itself. If required, some initialization can be performed.\n",
    "- __next__() must return the next item in the sequence. On reaching the end, and in subsequent calls, it must raise StopIteration.\n",
    "\n",
    "Let's build a custom iterator that will give us the square of the next number in each iteration. Square starts from zero upto a user set number."
   ]
  },
  {
   "cell_type": "code",
   "execution_count": 9,
   "id": "92d4d5b6",
   "metadata": {},
   "outputs": [
    {
     "name": "stdout",
     "output_type": "stream",
     "text": [
      "0\n",
      "1\n",
      "4\n",
      "9\n",
      "16\n",
      "25\n",
      "\n",
      "0\n",
      "1\n",
      "4\n",
      "9\n",
      "16\n",
      "25\n"
     ]
    }
   ],
   "source": [
    "class SquareNum():\n",
    "    def __init__(self, max=0):\n",
    "        self.max = max\n",
    "        \n",
    "    def __iter__(self):\n",
    "        self.n = 0\n",
    "        return self\n",
    "    \n",
    "    def __next__(self):\n",
    "        if self.n <= self.max:\n",
    "            result = self.n ** 2\n",
    "            self.n += 1\n",
    "            return result\n",
    "        else:\n",
    "            raise StopIteration\n",
    "            \n",
    "squaredNumbers = SquareNum(5)\n",
    "\n",
    "#create iterable from the object\n",
    "i = iter(squaredNumbers)\n",
    "\n",
    "#use next() to get the next iterator element\n",
    "print(next(i))\n",
    "print(next(i))\n",
    "print(next(i))\n",
    "print(next(i))\n",
    "print(next(i))\n",
    "print(next(i)) \n",
    "print()\n",
    "\n",
    "#using for loop to iterate over our iterator class\n",
    "for i in SquareNum(5):\n",
    "    print(i)"
   ]
  },
  {
   "cell_type": "markdown",
   "id": "108dccf8",
   "metadata": {},
   "source": [
    "### Infinite Iterators\n",
    "An infinite iterator is an iterator that continues to produce elements indefinitely.\n",
    "\n",
    "Let us create an infinite iterator using count() function from the itertools module. Here we create an infinite iterator that starts at 1 and increments by 1 each time, and then print the first 3 elements of the infinite iterator."
   ]
  },
  {
   "cell_type": "code",
   "execution_count": 12,
   "id": "c736ff91",
   "metadata": {},
   "outputs": [
    {
     "name": "stdout",
     "output_type": "stream",
     "text": [
      "1\n",
      "3\n",
      "5\n"
     ]
    }
   ],
   "source": [
    "from itertools import count\n",
    "\n",
    "#create infinite iterator that starts at 1 and increments by 2\n",
    "infinite_iterator = count(1, 2)\n",
    "\n",
    "#print the first 3 elements of the infinite iterator\n",
    "for i in range(3):\n",
    "    print(next(infinite_iterator))"
   ]
  },
  {
   "cell_type": "markdown",
   "id": "b5e3946b",
   "metadata": {},
   "source": [
    "### Yield Keyword and Generator\n",
    "In Python, a generator is a function that returns an iterator that produces a sequence of values when iterated over.\n",
    "\n",
    "Generators are useful when we want to produce a large sequence of values, but we don't want to store all of them in memory at once.\n",
    "\n",
    "yield keyword is used to create a generator function. The function in which yield keyword is used, that function is known as a Generator Function.\n",
    "\n",
    "Similar to defining a normal function, we can define a generator function using the def keyword, but instead of the return statement we use the yield statement."
   ]
  },
  {
   "cell_type": "code",
   "execution_count": 3,
   "id": "65468c4d",
   "metadata": {},
   "outputs": [
    {
     "name": "stdout",
     "output_type": "stream",
     "text": [
      "<class 'generator'>\n",
      "3\n",
      "33\n"
     ]
    }
   ],
   "source": [
    "#simple example of generator function\n",
    "def fun_generator():\n",
    "    yield \"3\"\n",
    "    yield \"33\"\n",
    "    \n",
    "obj = fun_generator()\n",
    "\n",
    "print(type(obj))\n",
    "\n",
    "print(next(obj))\n",
    "print(next(obj))"
   ]
  },
  {
   "cell_type": "code",
   "execution_count": 4,
   "id": "6490469d",
   "metadata": {},
   "outputs": [
    {
     "name": "stdout",
     "output_type": "stream",
     "text": [
      "0\n",
      "1\n",
      "2\n",
      "3\n",
      "4\n"
     ]
    }
   ],
   "source": [
    "#example of generator function to produce a sequence of numbers\n",
    "def gen_func(x):\n",
    "    for i in range(x):\n",
    "        yield i\n",
    "        \n",
    "for number in gen_func(5):\n",
    "    print(number)"
   ]
  },
  {
   "cell_type": "markdown",
   "id": "8322c9c0",
   "metadata": {},
   "source": [
    "As we can see, the yield keyword is used to produce a value from the generator and pause the generator function's execution until the next value is requested."
   ]
  },
  {
   "cell_type": "markdown",
   "id": "68e06da6",
   "metadata": {},
   "source": [
    "#### Generator Expression"
   ]
  },
  {
   "cell_type": "code",
   "execution_count": 9,
   "id": "218eb290",
   "metadata": {},
   "outputs": [
    {
     "name": "stdout",
     "output_type": "stream",
     "text": [
      "0\n",
      "1\n",
      "4\n",
      "9\n",
      "16\n"
     ]
    }
   ],
   "source": [
    "# create the generator object\n",
    "squares_generator = (i * i for i in range(5)) #this is the generator expression\n",
    "\n",
    "# iterate over the generator and print the values\n",
    "for i in squares_generator:\n",
    "    print(i)"
   ]
  },
  {
   "cell_type": "markdown",
   "id": "329dced1",
   "metadata": {},
   "source": [
    "#### Use of python generators\n",
    "- Easy to implement\n",
    "- Memory Efficient\n",
    "- Represent infinite stream\n",
    "- Pipelining generators"
   ]
  },
  {
   "cell_type": "markdown",
   "id": "35cc420a",
   "metadata": {},
   "source": [
    "Let's build a generator function that will give us the square of the next number in each iteration like in the example from the iterator. Square starts from zero upto a user set number. This method is easier to implement than iterators. we have also implemented using generator expression as above."
   ]
  },
  {
   "cell_type": "code",
   "execution_count": 10,
   "id": "928f1a33",
   "metadata": {},
   "outputs": [
    {
     "name": "stdout",
     "output_type": "stream",
     "text": [
      "0\n",
      "1\n",
      "4\n",
      "9\n",
      "16\n"
     ]
    }
   ],
   "source": [
    "#create generator function\n",
    "def SquareNumGen(max=0):\n",
    "    for i in range(max):\n",
    "        yield i ** 2\n",
    "        \n",
    "for num in SquareNumGen(5):\n",
    "    print(num)"
   ]
  },
  {
   "cell_type": "markdown",
   "id": "314b32be",
   "metadata": {},
   "source": [
    "We can pipeline a series of operations using multiple generators. For example let us produce a sequence of number of fibonacci series, find the sum of their squares."
   ]
  },
  {
   "cell_type": "code",
   "execution_count": null,
   "id": "6079e841",
   "metadata": {},
   "outputs": [],
   "source": [
    "def fib_num(max):\n",
    "    x = 0\n",
    "    y = 1\n",
    "    for _ in range(max):\n",
    "        x = y\n",
    "        y = x+y\n",
    "        yield x\n",
    "        \n",
    "def square(numbers):\n",
    "    for n in numbers:\n",
    "        yield num ** 2\n",
    "        \n",
    "print(sum(square()))"
   ]
  }
 ],
 "metadata": {
  "kernelspec": {
   "display_name": "Python 3 (ipykernel)",
   "language": "python",
   "name": "python3"
  },
  "language_info": {
   "codemirror_mode": {
    "name": "ipython",
    "version": 3
   },
   "file_extension": ".py",
   "mimetype": "text/x-python",
   "name": "python",
   "nbconvert_exporter": "python",
   "pygments_lexer": "ipython3",
   "version": "3.9.5"
  }
 },
 "nbformat": 4,
 "nbformat_minor": 5
}
