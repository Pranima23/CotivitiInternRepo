{
 "cells": [
  {
   "cell_type": "code",
   "execution_count": 1,
   "id": "470f88b8",
   "metadata": {},
   "outputs": [
    {
     "ename": "SyntaxError",
     "evalue": "invalid syntax (2961680003.py, line 2)",
     "output_type": "error",
     "traceback": [
      "\u001b[1;36m  Cell \u001b[1;32mIn[1], line 2\u001b[1;36m\u001b[0m\n\u001b[1;33m    Return True if all keys (not objects) of the dictionary are True (or if the dictionary is empty).\u001b[0m\n\u001b[1;37m           ^\u001b[0m\n\u001b[1;31mSyntaxError\u001b[0m\u001b[1;31m:\u001b[0m invalid syntax\n"
     ]
    }
   ],
   "source": [
    "#### all()\n",
    "Return True if all keys (not objects) of the dictionary are True (or if the dictionary is empty)."
   ]
  },
  {
   "cell_type": "code",
   "execution_count": 2,
   "id": "cebed2ad",
   "metadata": {},
   "outputs": [
    {
     "name": "stdout",
     "output_type": "stream",
     "text": [
      "True\n",
      "False\n",
      "True\n",
      "False\n",
      "True\n"
     ]
    }
   ],
   "source": [
    "d1 = {}\n",
    "print(all(d1)) #True\n",
    "\n",
    "d2 = {False: \"False\", 0: \"True\"}\n",
    "print(all(d2)) #False\n",
    "\n",
    "d3 = {5: \"True\", 2: \"False\"}\n",
    "print(all(d3)) #True\n",
    "\n",
    "d4 = {0: \"False\", 2: \"False\"}\n",
    "print(all(d4)) #False\n",
    "\n",
    "# 0 is False\n",
    "# '0' is True\n",
    "d5 = {'0': 'False'}\n",
    "print(all(d5)) #True"
   ]
  },
  {
   "cell_type": "code",
   "execution_count": 3,
   "id": "9690a31b",
   "metadata": {},
   "outputs": [
    {
     "ename": "SyntaxError",
     "evalue": "invalid syntax (3208181058.py, line 2)",
     "output_type": "error",
     "traceback": [
      "\u001b[1;36m  Cell \u001b[1;32mIn[3], line 2\u001b[1;36m\u001b[0m\n\u001b[1;33m    Return True if any key of the dictionary is true. If the dictionary is empty, return False.\u001b[0m\n\u001b[1;37m           ^\u001b[0m\n\u001b[1;31mSyntaxError\u001b[0m\u001b[1;31m:\u001b[0m invalid syntax\n"
     ]
    }
   ],
   "source": [
    "#### any()\n",
    "Return True if any key of the dictionary is true. If the dictionary is empty, return False.\n"
   ]
  },
  {
   "cell_type": "code",
   "execution_count": 4,
   "id": "d3e94423",
   "metadata": {},
   "outputs": [
    {
     "name": "stdout",
     "output_type": "stream",
     "text": [
      "False\n",
      "False\n",
      "True\n",
      "True\n",
      "True\n"
     ]
    }
   ],
   "source": [
    "d1 = {}\n",
    "print(any(d1)) #False\n",
    "\n",
    "d2 = {False: \"False\", 0: \"True\"}\n",
    "print(any(d2)) #False\n",
    "\n",
    "d3 = {5: \"True\", 2: \"False\"}\n",
    "print(any(d3)) #True\n",
    "\n",
    "d4 = {0: \"False\", 2: \"False\"}\n",
    "print(any(d4)) #True\n",
    "\n",
    "# 0 is False\n",
    "# '0' is True\n",
    "d5 = {'0': 'False'}\n",
    "print(any(d5)) #True"
   ]
  },
  {
   "cell_type": "code",
   "execution_count": null,
   "id": "ffbf2c4e",
   "metadata": {},
   "outputs": [],
   "source": []
  }
 ],
 "metadata": {
  "kernelspec": {
   "display_name": "Python 3 (ipykernel)",
   "language": "python",
   "name": "python3"
  },
  "language_info": {
   "codemirror_mode": {
    "name": "ipython",
    "version": 3
   },
   "file_extension": ".py",
   "mimetype": "text/x-python",
   "name": "python",
   "nbconvert_exporter": "python",
   "pygments_lexer": "ipython3",
   "version": "3.9.5"
  }
 },
 "nbformat": 4,
 "nbformat_minor": 5
}
