{
 "cells": [
  {
   "cell_type": "markdown",
   "id": "5cfd565e",
   "metadata": {},
   "source": [
    "# Python Programming Language - Advanced Concepts"
   ]
  },
  {
   "cell_type": "markdown",
   "id": "3269707a",
   "metadata": {},
   "source": [
    "## Module 11: Iterators and Generators"
   ]
  },
  {
   "cell_type": "markdown",
   "id": "279360dd",
   "metadata": {},
   "source": [
    "### Iterators\n",
    "Iterators are methods that iterate over iterable collections like lists, tuples, etc. Using an iterator method, we can loop through an object and return its elements.\n",
    "\n"
   ]
  },
  {
   "cell_type": "markdown",
   "id": "0faed024",
   "metadata": {},
   "source": [
    "#### iter() and next()\n",
    "Let us create an iterator from a list using iter() method. Then, let us use the next() function to retrieve the elements of the iterator in sequential order."
   ]
  },
  {
   "cell_type": "code",
   "execution_count": 1,
   "id": "066861cc",
   "metadata": {},
   "outputs": [
    {
     "name": "stdout",
     "output_type": "stream",
     "text": [
      "1\n",
      "2\n",
      "3\n"
     ]
    },
    {
     "ename": "StopIteration",
     "evalue": "",
     "output_type": "error",
     "traceback": [
      "\u001b[1;31m---------------------------------------------------------------------------\u001b[0m",
      "\u001b[1;31mStopIteration\u001b[0m                             Traceback (most recent call last)",
      "Cell \u001b[1;32mIn[1], line 16\u001b[0m\n\u001b[0;32m     13\u001b[0m \u001b[38;5;28mprint\u001b[39m(\u001b[38;5;28mnext\u001b[39m(iterator))\n\u001b[0;32m     15\u001b[0m \u001b[38;5;66;03m#iterating after reaching the end of iterators gets us StopIteration exception\u001b[39;00m\n\u001b[1;32m---> 16\u001b[0m \u001b[38;5;28mprint\u001b[39m(\u001b[38;5;28;43mnext\u001b[39;49m\u001b[43m(\u001b[49m\u001b[43miterator\u001b[49m\u001b[43m)\u001b[49m)\n",
      "\u001b[1;31mStopIteration\u001b[0m: "
     ]
    }
   ],
   "source": [
    "my_list = [1, 2, 3]\n",
    "\n",
    "#create an iterator form the list using iter()\n",
    "iterator = iter(my_list)\n",
    "\n",
    "#get the first element of the iterator\n",
    "print(next(iterator))\n",
    "\n",
    "#get the second element of the iterator\n",
    "print(next(iterator))\n",
    "\n",
    "#get the third element of the iterator\n",
    "print(next(iterator))\n",
    "\n",
    "#iterating after reaching the end of iterators gets us StopIteration exception\n",
    "print(next(iterator))"
   ]
  },
  {
   "cell_type": "markdown",
   "id": "24ac0c5c",
   "metadata": {},
   "source": [
    "The implementation of each iterator object must consist of an __iter__() and __next__() method. In addition to the prerequisite above, the implementation must also have a way to track the object's internal state and raise a StopIteration exception once no more values can be returned. These rules are known as the iterator protocol. "
   ]
  },
  {
   "cell_type": "markdown",
   "id": "33a7dfe8",
   "metadata": {},
   "source": [
    "#### For loop for iterators\n",
    "Python automatically produces an iterator object whenever you attempt to loop through an iterable object. "
   ]
  },
  {
   "cell_type": "code",
   "execution_count": 13,
   "id": "fa652fa2",
   "metadata": {},
   "outputs": [
    {
     "name": "stdout",
     "output_type": "stream",
     "text": [
      "1\n",
      "2\n",
      "3\n",
      "4\n"
     ]
    }
   ],
   "source": [
    "my_list1 = [1, 2, 3, 4]\n",
    "\n",
    "\n",
    "#iterate through the elements of the list\n",
    "for element in my_list1:\n",
    "    print(element)"
   ]
  },
  {
   "cell_type": "markdown",
   "id": "e5c84587",
   "metadata": {},
   "source": [
    "### __iter__() and __next()__ methods\n",
    "- __iter__() returns the iterator object itself. If required, some initialization can be performed.\n",
    "- __next__() must return the next item in the sequence. On reaching the end, and in subsequent calls, it must raise StopIteration.\n",
    "\n",
    "Let's build a custom iterator that will give us the square of the next number in each iteration. Square starts from zero upto a user set number."
   ]
  },
  {
   "cell_type": "code",
   "execution_count": 9,
   "id": "92d4d5b6",
   "metadata": {},
   "outputs": [
    {
     "name": "stdout",
     "output_type": "stream",
     "text": [
      "0\n",
      "1\n",
      "4\n",
      "9\n",
      "16\n",
      "25\n",
      "\n",
      "0\n",
      "1\n",
      "4\n",
      "9\n",
      "16\n",
      "25\n"
     ]
    }
   ],
   "source": [
    "class SquareNum():\n",
    "    def __init__(self, max=0):\n",
    "        self.max = max\n",
    "        \n",
    "    def __iter__(self):\n",
    "        self.n = 0\n",
    "        return self\n",
    "    \n",
    "    def __next__(self):\n",
    "        if self.n <= self.max:\n",
    "            result = self.n ** 2\n",
    "            self.n += 1\n",
    "            return result\n",
    "        else:\n",
    "            raise StopIteration\n",
    "            \n",
    "squaredNumbers = SquareNum(5)\n",
    "\n",
    "#create iterable from the object\n",
    "i = iter(squaredNumbers)\n",
    "\n",
    "#use next() to get the next iterator element\n",
    "print(next(i))\n",
    "print(next(i))\n",
    "print(next(i))\n",
    "print(next(i))\n",
    "print(next(i))\n",
    "print(next(i)) \n",
    "print()\n",
    "\n",
    "#using for loop to iterate over our iterator class\n",
    "for i in SquareNum(5):\n",
    "    print(i)"
   ]
  },
  {
   "cell_type": "markdown",
   "id": "108dccf8",
   "metadata": {},
   "source": [
    "### Infinite Iterators\n",
    "An infinite iterator is an iterator that continues to produce elements indefinitely.\n",
    "\n",
    "Let us create an infinite iterator using count() function from the itertools module. Here we create an infinite iterator that starts at 1 and increments by 1 each time, and then print the first 3 elements of the infinite iterator."
   ]
  },
  {
   "cell_type": "code",
   "execution_count": 12,
   "id": "c736ff91",
   "metadata": {},
   "outputs": [
    {
     "name": "stdout",
     "output_type": "stream",
     "text": [
      "1\n",
      "3\n",
      "5\n"
     ]
    }
   ],
   "source": [
    "from itertools import count\n",
    "\n",
    "#create infinite iterator that starts at 1 and increments by 2\n",
    "infinite_iterator = count(1, 2)\n",
    "\n",
    "#print the first 3 elements of the infinite iterator\n",
    "for i in range(3):\n",
    "    print(next(infinite_iterator))"
   ]
  },
  {
   "cell_type": "markdown",
   "id": "b5e3946b",
   "metadata": {},
   "source": [
    "### Yield Keyword and Generator\n",
    "In Python, a generator is a function that returns an iterator that produces a sequence of values when iterated over.\n",
    "\n",
    "Generators are useful when we want to produce a large sequence of values, but we don't want to store all of them in memory at once.\n",
    "\n",
    "yield keyword is used to create a generator function. The function in which yield keyword is used, that function is known as a Generator Function.\n",
    "\n",
    "Similar to defining a normal function, we can define a generator function using the def keyword, but instead of the return statement we use the yield statement."
   ]
  },
  {
   "cell_type": "code",
   "execution_count": 3,
   "id": "65468c4d",
   "metadata": {},
   "outputs": [
    {
     "name": "stdout",
     "output_type": "stream",
     "text": [
      "<class 'generator'>\n",
      "3\n",
      "33\n"
     ]
    }
   ],
   "source": [
    "#simple example of generator function\n",
    "def fun_generator():\n",
    "    yield \"3\"\n",
    "    yield \"33\"\n",
    "    \n",
    "obj = fun_generator()\n",
    "\n",
    "print(type(obj))\n",
    "\n",
    "print(next(obj))\n",
    "print(next(obj))"
   ]
  },
  {
   "cell_type": "code",
   "execution_count": 4,
   "id": "6490469d",
   "metadata": {},
   "outputs": [
    {
     "name": "stdout",
     "output_type": "stream",
     "text": [
      "0\n",
      "1\n",
      "2\n",
      "3\n",
      "4\n"
     ]
    }
   ],
   "source": [
    "#example of generator function to produce a sequence of numbers\n",
    "def gen_func(x):\n",
    "    for i in range(x):\n",
    "        yield i\n",
    "        \n",
    "for number in gen_func(5):\n",
    "    print(number)"
   ]
  },
  {
   "cell_type": "markdown",
   "id": "8322c9c0",
   "metadata": {},
   "source": [
    "As we can see, the yield keyword is used to produce a value from the generator and pause the generator function's execution until the next value is requested."
   ]
  },
  {
   "cell_type": "markdown",
   "id": "68e06da6",
   "metadata": {},
   "source": [
    "#### Generator Expression\n",
    "Generator expressions are better than the iterators for simple use cases only."
   ]
  },
  {
   "cell_type": "code",
   "execution_count": 9,
   "id": "218eb290",
   "metadata": {},
   "outputs": [
    {
     "name": "stdout",
     "output_type": "stream",
     "text": [
      "0\n",
      "1\n",
      "4\n",
      "9\n",
      "16\n"
     ]
    }
   ],
   "source": [
    "# create the generator object\n",
    "squares_generator = (i * i for i in range(5)) #this is the generator expression\n",
    "\n",
    "# iterate over the generator and print the values\n",
    "for i in squares_generator:\n",
    "    print(i)"
   ]
  },
  {
   "cell_type": "markdown",
   "id": "329dced1",
   "metadata": {},
   "source": [
    "### Generators Use Cases\n",
    "- Easy to implement\n",
    "- Memory Efficient\n",
    "- Represent infinite stream\n",
    "- Pipelining generators"
   ]
  },
  {
   "cell_type": "markdown",
   "id": "35cc420a",
   "metadata": {},
   "source": [
    "\n",
    "Let's build a generator function that will give us the square of the next number in each iteration like in the example from the iterator. Square starts from zero upto a user set number. This method is easier to implement than iterators. we have also implemented using generator expression as above."
   ]
  },
  {
   "cell_type": "code",
   "execution_count": 10,
   "id": "928f1a33",
   "metadata": {},
   "outputs": [
    {
     "name": "stdout",
     "output_type": "stream",
     "text": [
      "0\n",
      "1\n",
      "4\n",
      "9\n",
      "16\n"
     ]
    }
   ],
   "source": [
    "#create generator function\n",
    "def SquareNumGen(max=0):\n",
    "    for i in range(max):\n",
    "        yield i ** 2\n",
    "        \n",
    "for num in SquareNumGen(5):\n",
    "    print(num)"
   ]
  },
  {
   "cell_type": "markdown",
   "id": "314b32be",
   "metadata": {},
   "source": [
    "We can pipeline a series of operations using multiple generators. For example let us produce a sequence of number of fibonacci series, find the sum of their squares."
   ]
  },
  {
   "cell_type": "code",
   "execution_count": null,
   "id": "6079e841",
   "metadata": {},
   "outputs": [],
   "source": [
    "def fib_num(max):\n",
    "    x = 0\n",
    "    y = 1\n",
    "    for _ in range(max):\n",
    "        x = y\n",
    "        y = x+y\n",
    "        yield x\n",
    "        \n",
    "def square(numbers):\n",
    "    for n in numbers:\n",
    "        yield num ** 2\n",
    "        \n",
    "print(sum(square()))"
   ]
  },
  {
   "cell_type": "markdown",
   "id": "fe86880a",
   "metadata": {},
   "source": [
    "## Module 12: Comprehensions"
   ]
  },
  {
   "cell_type": "markdown",
   "id": "3c111d11",
   "metadata": {},
   "source": [
    "### List comprehension"
   ]
  },
  {
   "cell_type": "code",
   "execution_count": 1,
   "id": "8000aa38",
   "metadata": {},
   "outputs": [
    {
     "name": "stdout",
     "output_type": "stream",
     "text": [
      "['P', 'r', 'a', 'n', 'i', 'm', 'a']\n"
     ]
    }
   ],
   "source": [
    "#iterating through a string using list comprehension\n",
    "letters = [letter for letter in \"Pranima\"]\n",
    "print(letters)"
   ]
  },
  {
   "cell_type": "code",
   "execution_count": 2,
   "id": "a2409b01",
   "metadata": {},
   "outputs": [
    {
     "name": "stdout",
     "output_type": "stream",
     "text": [
      "[0, 2, 4, 6, 8]\n"
     ]
    }
   ],
   "source": [
    "#using if with list comprehension\n",
    "even_numbers = [x for x in range(10) if x%2 == 0]\n",
    "print(even_numbers)"
   ]
  },
  {
   "cell_type": "code",
   "execution_count": 3,
   "id": "03ffd0f9",
   "metadata": {},
   "outputs": [
    {
     "name": "stdout",
     "output_type": "stream",
     "text": [
      "[0, 10, 20, 30, 40]\n"
     ]
    }
   ],
   "source": [
    "#using nested if with list comprehension\n",
    "divisible_by_2_and_5 = [x for x in range(50) if x%2 == 0 and x%5 == 0]\n",
    "print(divisible_by_2_and_5)"
   ]
  },
  {
   "cell_type": "code",
   "execution_count": 5,
   "id": "7f74e61f",
   "metadata": {},
   "outputs": [
    {
     "name": "stdout",
     "output_type": "stream",
     "text": [
      "['Divisible', 'Not divisible', 'Not divisible', 'Divisible', 'Not divisible', 'Not divisible', 'Divisible']\n"
     ]
    }
   ],
   "source": [
    "#if else with list comprehension\n",
    "divisible_by_3 = [\"Divisible\" if i%3 == 0 else \"Not divisible\" for i in range(7)]\n",
    "print(divisible_by_3)"
   ]
  },
  {
   "cell_type": "code",
   "execution_count": 13,
   "id": "bbf8c406",
   "metadata": {},
   "outputs": [
    {
     "name": "stdout",
     "output_type": "stream",
     "text": [
      "[[0, 1, 2, 3, 4], [0, 1, 2, 3, 4], [0, 1, 2, 3, 4]]\n",
      "[[2, 3, 4, 5], [5, 4, 3, 1], [2, 1, 5, 4]]\n",
      "[[2, 5, 2], [3, 4, 1], [4, 3, 5], [5, 1, 4]]\n"
     ]
    }
   ],
   "source": [
    "#nested loops in list comprehension\n",
    "matrix1 = [[j for j in range(5)] for i in range(3)]\n",
    "print(matrix1)\n",
    "\n",
    "#calculate transpose\n",
    "matrix2 = [[2, 3, 4, 5], [5, 4, 3, 1], [2, 1, 5, 4]]\n",
    "print(matrix2)\n",
    "\n",
    "transpose2 = [[row[i] for row in matrix2] for i in range(4)]\n",
    "print(transpose2)"
   ]
  },
  {
   "cell_type": "markdown",
   "id": "3ebfdc98",
   "metadata": {},
   "source": [
    "### Sets Comprehension"
   ]
  },
  {
   "cell_type": "code",
   "execution_count": 14,
   "id": "5e2c3d0d",
   "metadata": {},
   "outputs": [
    {
     "name": "stdout",
     "output_type": "stream",
     "text": [
      "{81, 1, 9, 25}\n"
     ]
    }
   ],
   "source": [
    "#modify elements in one set to another set\n",
    "my_set = {1, 3, 5, 4, 9}\n",
    "modified_set = {i*i for i in my_set if i%2 != 0}\n",
    "print(modified_set)"
   ]
  },
  {
   "cell_type": "code",
   "execution_count": 16,
   "id": "dd3ea389",
   "metadata": {},
   "outputs": [
    {
     "name": "stdout",
     "output_type": "stream",
     "text": [
      "{'TOY', 'CUP', 'PAPER'}\n"
     ]
    }
   ],
   "source": [
    "my_set2 = {\"toy\", \"paper\", \"cup\"}\n",
    "modified_set2 = {word.upper() for word in my_set2}\n",
    "print(modified_set2)"
   ]
  },
  {
   "cell_type": "markdown",
   "id": "c212868d",
   "metadata": {},
   "source": [
    "### Dictionary Comprehension"
   ]
  },
  {
   "cell_type": "code",
   "execution_count": 18,
   "id": "d7082dcd",
   "metadata": {},
   "outputs": [
    {
     "name": "stdout",
     "output_type": "stream",
     "text": [
      "{1: 1, 2: 4, 3: 9, 4: 16, 5: 25}\n"
     ]
    }
   ],
   "source": [
    "# key of number, value of its square\n",
    "square_dictionary = {num: num*num for num in range(1, 6)}\n",
    "print(square_dictionary)"
   ]
  },
  {
   "cell_type": "code",
   "execution_count": 21,
   "id": "864bef9f",
   "metadata": {},
   "outputs": [
    {
     "name": "stdout",
     "output_type": "stream",
     "text": [
      "{'Pranima': 24, 'Nirjala': 18}\n"
     ]
    }
   ],
   "source": [
    "#eligible to vote\n",
    "members_dict = {'Pranima': 24, \"Nirjala\": 18, \"Praneet\": 17}\n",
    "eligible_voters = {k: v for (k, v) in members_dict.items() if v >= 18}\n",
    "print(eligible_voters)"
   ]
  },
  {
   "cell_type": "code",
   "execution_count": 25,
   "id": "05e67dd8",
   "metadata": {},
   "outputs": [
    {
     "name": "stdout",
     "output_type": "stream",
     "text": [
      "{'A': 55, 'B': 55, 'C': 55, 'D': 55}\n"
     ]
    }
   ],
   "source": [
    "#dictionary from list\n",
    "names = [\"A\", \"B\", \"C\", \"D\"]\n",
    "ages = [12, 34, 32, 55]\n",
    "persons = {k: v for k in names for v in ages}\n",
    "print(persons)"
   ]
  },
  {
   "cell_type": "code",
   "execution_count": 28,
   "id": "f84a2a86",
   "metadata": {},
   "outputs": [
    {
     "name": "stdout",
     "output_type": "stream",
     "text": [
      "{2: {1: 2, 2: 4, 3: 6, 4: 8, 5: 10, 6: 12, 7: 14, 8: 16, 9: 18, 10: 20}, 3: {1: 3, 2: 6, 3: 9, 4: 12, 5: 15, 6: 18, 7: 21, 8: 24, 9: 27, 10: 30}, 4: {1: 4, 2: 8, 3: 12, 4: 16, 5: 20, 6: 24, 7: 28, 8: 32, 9: 36, 10: 40}, 5: {1: 5, 2: 10, 3: 15, 4: 20, 5: 25, 6: 30, 7: 35, 8: 40, 9: 45, 10: 50}}\n"
     ]
    }
   ],
   "source": [
    "#nested dictionary comprehension\n",
    "#creating multiplication table\n",
    "mul_table = {k1: {k2: k1 * k2 for k2 in range(1, 11)} for k1 in range(2, 6)}\n",
    "print(mul_table)"
   ]
  },
  {
   "cell_type": "markdown",
   "id": "3f7e77bd",
   "metadata": {},
   "source": [
    "Advantage - Dictionary comprehension shortens lines of code while keeping logic intact.\n",
    "Disadvantage - They can decrease redability of code and sometimes make code run slower and consume more memory."
   ]
  },
  {
   "cell_type": "markdown",
   "id": "b13df0eb",
   "metadata": {},
   "source": [
    "### Generator Comprehension\n",
    "Same as generator expression.\n",
    "\n",
    "Differ from list comprehension by the use of small brackets over big brackets and the returned object(i.e. generator object instead of list)"
   ]
  },
  {
   "cell_type": "markdown",
   "id": "31ec78e6",
   "metadata": {},
   "source": [
    "### Nested Comprehension\n",
    "Nested comprehension has been explained above. Continuing further with one more example:"
   ]
  },
  {
   "cell_type": "code",
   "execution_count": 29,
   "id": "bb6a8603",
   "metadata": {},
   "outputs": [
    {
     "name": "stdout",
     "output_type": "stream",
     "text": [
      "['ad', 'ae', 'af', 'bd', 'be', 'bf', 'cd', 'ce', 'cf']\n"
     ]
    }
   ],
   "source": [
    "#combination of two string 'abc' and 'def' using nested comprehension\n",
    "combn = [p + q for p in 'abc' for q in 'def']\n",
    "print(combn)"
   ]
  },
  {
   "cell_type": "markdown",
   "id": "15b1f81f",
   "metadata": {},
   "source": [
    "## Module 13: Decorators"
   ]
  },
  {
   "cell_type": "markdown",
   "id": "7d9e7b68",
   "metadata": {},
   "source": [
    "### Higher Order Function\n",
    "\n",
    "A function is called Higher Order Function if \n",
    "- it contains other functions as a parameter \n",
    "- or returns a function as an output \n",
    "i.e, the functions that operate with another function are known as Higher order Functions.\n",
    "\n",
    "Python supports the concept of higher order functions. Functions in Python are the instances of object. This means that they support operations such as being passed as an argument, returned from a function, modified, and assigned to a variable.\n"
   ]
  },
  {
   "cell_type": "markdown",
   "id": "45202379",
   "metadata": {},
   "source": [
    "#### Passing function as an argument to another"
   ]
  },
  {
   "cell_type": "code",
   "execution_count": 2,
   "id": "071a7adf",
   "metadata": {},
   "outputs": [
    {
     "name": "stdout",
     "output_type": "stream",
     "text": [
      "8\n"
     ]
    }
   ],
   "source": [
    "def plus_one(number):\n",
    "    return number + 1\n",
    "\n",
    "def function_call(function, number): \n",
    "    return function(number)\n",
    "\n",
    "print(function_call(plus_one, 7)) #function as argument"
   ]
  },
  {
   "cell_type": "markdown",
   "id": "0104c5dd",
   "metadata": {},
   "source": [
    "#### Returning a function as a value"
   ]
  },
  {
   "cell_type": "code",
   "execution_count": 5,
   "id": "a6c7dbb4",
   "metadata": {},
   "outputs": [
    {
     "name": "stdout",
     "output_type": "stream",
     "text": [
      "Good morning, Sutton!\n"
     ]
    }
   ],
   "source": [
    "def greeting(name):\n",
    "    def morning():\n",
    "        return f\"Good morning, {name}!\"\n",
    "    return morning() #returns a function as a value\n",
    "\n",
    "greet = greeting(\"Sutton\")\n",
    "print(greet)"
   ]
  },
  {
   "cell_type": "markdown",
   "id": "2c978aaa",
   "metadata": {},
   "source": [
    "#### Some inbuilt higher order functions"
   ]
  },
  {
   "cell_type": "markdown",
   "id": "9a17ca05",
   "metadata": {},
   "source": [
    "##### map()"
   ]
  },
  {
   "cell_type": "code",
   "execution_count": 9,
   "id": "7e975721",
   "metadata": {},
   "outputs": [
    {
     "name": "stdout",
     "output_type": "stream",
     "text": [
      "[1, 4, 9, 16, 25]\n"
     ]
    }
   ],
   "source": [
    "num = [1, 2, 3, 4, 5]\n",
    "\n",
    "squares = list(map(lambda x: x**2, num))\n",
    "print(squares)"
   ]
  },
  {
   "cell_type": "markdown",
   "id": "e6d2df74",
   "metadata": {},
   "source": [
    "##### filter()"
   ]
  },
  {
   "cell_type": "code",
   "execution_count": 14,
   "id": "40da4fb5",
   "metadata": {},
   "outputs": [
    {
     "name": "stdout",
     "output_type": "stream",
     "text": [
      "[2, 4]\n"
     ]
    }
   ],
   "source": [
    "def check_even(n):\n",
    "    return True if n%2 == 0 else False\n",
    "num2 = [1, 2, 3, 4, 5]\n",
    "evens = filter(check_even, num2)\n",
    "print(list(evens))"
   ]
  },
  {
   "cell_type": "markdown",
   "id": "f50c6d62",
   "metadata": {},
   "source": [
    "### Introduction to Decorators\n",
    " A Python decorator is a function that takes in a function and returns it by adding some functionality.\n",
    " \n",
    " Here is the syntax of basic Python Decorator."
   ]
  },
  {
   "cell_type": "code",
   "execution_count": null,
   "id": "e52334e2",
   "metadata": {},
   "outputs": [],
   "source": [
    "#creating a decorator\n",
    "def decorator_func(function):\n",
    "    \n",
    "    def wrapper_func():\n",
    "        #sth\n",
    "        func()\n",
    "        #sth\n",
    "    return wrapper_func\n",
    "\n",
    "#using decorator\n",
    "@decorator_func\n",
    "def a_func():\n",
    "    pass"
   ]
  },
  {
   "cell_type": "markdown",
   "id": "c02b1897",
   "metadata": {},
   "source": [
    "Lets us create a simple decorator that will convert a sentence into uppercase."
   ]
  },
  {
   "cell_type": "code",
   "execution_count": 15,
   "id": "2719b4a3",
   "metadata": {},
   "outputs": [
    {
     "name": "stdout",
     "output_type": "stream",
     "text": [
      "HELLO ALL\n"
     ]
    }
   ],
   "source": [
    "#creating a decorator\n",
    "def uppercase_decorator(function):\n",
    "    \n",
    "    def wrapper_func():\n",
    "        return function().upper()\n",
    "    \n",
    "    return wrapper_func()\n",
    "\n",
    "#using decorator\n",
    "@uppercase_decorator\n",
    "def hello():\n",
    "    return \"Hello all\"\n",
    "\n",
    "print(hello)"
   ]
  },
  {
   "cell_type": "markdown",
   "id": "6453dbbd",
   "metadata": {},
   "source": [
    "We can pass our function to our decorator as below to implement python decorators. But, using @symbol before the function we'd like to decorate is easier."
   ]
  },
  {
   "cell_type": "code",
   "execution_count": 16,
   "id": "962fe542",
   "metadata": {},
   "outputs": [
    {
     "name": "stdout",
     "output_type": "stream",
     "text": [
      "HELLO ALL\n"
     ]
    }
   ],
   "source": [
    "#creating a decorator\n",
    "def uppercase_decorator(function):\n",
    "    \n",
    "    def wrapper_func():\n",
    "        return function().upper()\n",
    "    \n",
    "    return wrapper_func()\n",
    "\n",
    "#function to decorate\n",
    "def hello():\n",
    "    return \"Nice to meet you\"\n",
    "\n",
    "print(uppercase_decorator(hello))\n"
   ]
  },
  {
   "cell_type": "code",
   "execution_count": 18,
   "id": "7a23451f",
   "metadata": {},
   "outputs": [
    {
     "name": "stdout",
     "output_type": "stream",
     "text": [
      "NICE TO MEET YOU\n"
     ]
    }
   ],
   "source": [
    "# #creating a decorator\n",
    "# def uppercase_decorator(function):   \n",
    "    \n",
    "#     return function().upper()\n",
    "    \n",
    "\n",
    "# #function to decorate\n",
    "# def hello():\n",
    "#     return \"Nice to meet you\"\n",
    "\n",
    "# print(uppercase_decorator(hello))"
   ]
  },
  {
   "cell_type": "markdown",
   "id": "bf0b27d4",
   "metadata": {},
   "source": [
    "### Decorators with arguments"
   ]
  },
  {
   "cell_type": "code",
   "execution_count": 26,
   "id": "48c5342c",
   "metadata": {},
   "outputs": [
    {
     "name": "stdout",
     "output_type": "stream",
     "text": [
      "{'sum': 5, 'product': 6}\n"
     ]
    }
   ],
   "source": [
    "def make_dictionary(function):\n",
    "    \n",
    "    def wrapper(a, b):\n",
    "        return {function.__name__: function(a, b)}\n",
    "    \n",
    "    return wrapper\n",
    "\n",
    "@make_dictionary\n",
    "def sum(a, b):\n",
    "    return a + b\n",
    "\n",
    "@make_dictionary\n",
    "def product(a, b):\n",
    "    return a * b\n",
    "\n",
    "\n",
    "dict = {}\n",
    "dict.update(sum(2, 3))\n",
    "dict.update(product(2, 3))\n",
    "print(dict)"
   ]
  },
  {
   "cell_type": "markdown",
   "id": "81e734e6",
   "metadata": {},
   "source": [
    "Here, when we call the sum() and product() functions with the arguments (2,3), the wrapper() function defined in the make_dicitonary() decorator is called instead.\n",
    "\n",
    "This wrapper() function calls the original sum() or product() function with the arguments 2 and 3 and returns the result in the form of dictionary. We update these results in our dictionary named dict."
   ]
  },
  {
   "cell_type": "markdown",
   "id": "be01f3ef",
   "metadata": {},
   "source": [
    "### Function decorators and Class decorators"
   ]
  },
  {
   "cell_type": "markdown",
   "id": "19d3205c",
   "metadata": {},
   "source": [
    "#### Class decorator\n",
    "We can define a decorator as a class in order to do implement the functionality of decorator. For that, we have to use a __call__ method of classes.\n",
    "\n",
    "##### Simple class decorator example\n",
    "\n",
    "Here is a simple example of how class decorators are implemented."
   ]
  },
  {
   "cell_type": "code",
   "execution_count": 28,
   "id": "a6c10713",
   "metadata": {},
   "outputs": [
    {
     "name": "stdout",
     "output_type": "stream",
     "text": [
      "I am in decorator class\n",
      "hello there!\n"
     ]
    }
   ],
   "source": [
    "class MyDecorator:\n",
    "    def __init__(self, function):\n",
    "        self.function = function\n",
    "        \n",
    "    def __call__(self):\n",
    "        #can add code here\n",
    "        #for eg:\n",
    "        print(\"I am in decorator class\")\n",
    "        \n",
    "        self.function()\n",
    "        \n",
    "        #can add code here as well\n",
    "        \n",
    "@MyDecorator\n",
    "def my_function():\n",
    "    print(\"hello there!\")\n",
    "    \n",
    "my_function()"
   ]
  },
  {
   "cell_type": "markdown",
   "id": "871120f7",
   "metadata": {},
   "source": [
    "##### Class decorator with *args and **kwargs\n"
   ]
  },
  {
   "cell_type": "code",
   "execution_count": null,
   "id": "bb1b3ba0",
   "metadata": {},
   "outputs": [],
   "source": []
  }
 ],
 "metadata": {
  "kernelspec": {
   "display_name": "Python 3 (ipykernel)",
   "language": "python",
   "name": "python3"
  },
  "language_info": {
   "codemirror_mode": {
    "name": "ipython",
    "version": 3
   },
   "file_extension": ".py",
   "mimetype": "text/x-python",
   "name": "python",
   "nbconvert_exporter": "python",
   "pygments_lexer": "ipython3",
   "version": "3.9.5"
  }
 },
 "nbformat": 4,
 "nbformat_minor": 5
}
