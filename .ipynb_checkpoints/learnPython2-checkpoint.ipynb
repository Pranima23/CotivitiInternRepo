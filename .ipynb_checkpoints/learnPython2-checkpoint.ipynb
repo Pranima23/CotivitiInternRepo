{
 "cells": [
  {
   "cell_type": "markdown",
   "id": "02a83971",
   "metadata": {},
   "source": [
    "# Python Programming Language - Advanced Concepts"
   ]
  },
  {
   "cell_type": "markdown",
   "id": "187545ee",
   "metadata": {},
   "source": [
    "## Module 11: Iterators and Generators"
   ]
  },
  {
   "cell_type": "markdown",
   "id": "c8c038d7",
   "metadata": {},
   "source": [
    "### Iterators\n",
    "Iterators are methods that iterate over iterable collections like lists, tuples, etc. Using an iterator method, we can loop through an object and return its elements.\n",
    "\n"
   ]
  },
  {
   "cell_type": "markdown",
   "id": "d4c71814",
   "metadata": {},
   "source": [
    "#### iter() and next()\n",
    "Let us create an iterator from a list using iter() method. Then, let us use the next() function to retrieve the elements of the iterator in sequential order."
   ]
  },
  {
   "cell_type": "code",
   "execution_count": 1,
   "id": "3c28f017",
   "metadata": {},
   "outputs": [
    {
     "name": "stdout",
     "output_type": "stream",
     "text": [
      "1\n",
      "2\n",
      "3\n"
     ]
    },
    {
     "ename": "StopIteration",
     "evalue": "",
     "output_type": "error",
     "traceback": [
      "\u001b[1;31m---------------------------------------------------------------------------\u001b[0m",
      "\u001b[1;31mStopIteration\u001b[0m                             Traceback (most recent call last)",
      "Cell \u001b[1;32mIn[1], line 16\u001b[0m\n\u001b[0;32m     13\u001b[0m \u001b[38;5;28mprint\u001b[39m(\u001b[38;5;28mnext\u001b[39m(iterator))\n\u001b[0;32m     15\u001b[0m \u001b[38;5;66;03m#iterating after reaching the end of iterators gets us StopIteration exception\u001b[39;00m\n\u001b[1;32m---> 16\u001b[0m \u001b[38;5;28mprint\u001b[39m(\u001b[38;5;28;43mnext\u001b[39;49m\u001b[43m(\u001b[49m\u001b[43miterator\u001b[49m\u001b[43m)\u001b[49m)\n",
      "\u001b[1;31mStopIteration\u001b[0m: "
     ]
    }
   ],
   "source": [
    "my_list = [1, 2, 3]\n",
    "\n",
    "#create an iterator form the list using iter()\n",
    "iterator = iter(my_list)\n",
    "\n",
    "#get the first element of the iterator\n",
    "print(next(iterator))\n",
    "\n",
    "#get the second element of the iterator\n",
    "print(next(iterator))\n",
    "\n",
    "#get the third element of the iterator\n",
    "print(next(iterator))\n",
    "\n",
    "#iterating after reaching the end of iterators gets us StopIteration exception\n",
    "print(next(iterator))"
   ]
  },
  {
   "cell_type": "markdown",
   "id": "d85e0703",
   "metadata": {},
   "source": [
    "The implementation of each iterator object must consist of an __iter__() and __next__() method. In addition to the prerequisite above, the implementation must also have a way to track the object's internal state and raise a StopIteration exception once no more values can be returned. These rules are known as the iterator protocol. "
   ]
  },
  {
   "cell_type": "markdown",
   "id": "a7727921",
   "metadata": {},
   "source": [
    "#### For loop for iterators\n",
    "Python automatically produces an iterator object whenever you attempt to loop through an iterable object. "
   ]
  },
  {
   "cell_type": "code",
   "execution_count": 13,
   "id": "63b8707a",
   "metadata": {},
   "outputs": [
    {
     "name": "stdout",
     "output_type": "stream",
     "text": [
      "1\n",
      "2\n",
      "3\n",
      "4\n"
     ]
    }
   ],
   "source": [
    "my_list1 = [1, 2, 3, 4]\n",
    "\n",
    "\n",
    "#iterate through the elements of the list\n",
    "for element in my_list1:\n",
    "    print(element)"
   ]
  },
  {
   "cell_type": "markdown",
   "id": "754f303e",
   "metadata": {},
   "source": [
    "### __iter__() and __next()__ methods\n",
    "- __iter__() returns the iterator object itself. If required, some initialization can be performed.\n",
    "- __next__() must return the next item in the sequence. On reaching the end, and in subsequent calls, it must raise StopIteration.\n",
    "\n",
    "Let's build a custom iterator that will give us the square of the next number in each iteration. Square starts from zero upto a user set number."
   ]
  },
  {
   "cell_type": "code",
   "execution_count": 9,
   "id": "62fedafa",
   "metadata": {},
   "outputs": [
    {
     "name": "stdout",
     "output_type": "stream",
     "text": [
      "0\n",
      "1\n",
      "4\n",
      "9\n",
      "16\n",
      "25\n",
      "\n",
      "0\n",
      "1\n",
      "4\n",
      "9\n",
      "16\n",
      "25\n"
     ]
    }
   ],
   "source": [
    "class SquareNum():\n",
    "    def __init__(self, max=0):\n",
    "        self.max = max\n",
    "        \n",
    "    def __iter__(self):\n",
    "        self.n = 0\n",
    "        return self\n",
    "    \n",
    "    def __next__(self):\n",
    "        if self.n <= self.max:\n",
    "            result = self.n ** 2\n",
    "            self.n += 1\n",
    "            return result\n",
    "        else:\n",
    "            raise StopIteration\n",
    "            \n",
    "squaredNumbers = SquareNum(5)\n",
    "\n",
    "#create iterable from the object\n",
    "i = iter(squaredNumbers)\n",
    "\n",
    "#use next() to get the next iterator element\n",
    "print(next(i))\n",
    "print(next(i))\n",
    "print(next(i))\n",
    "print(next(i))\n",
    "print(next(i))\n",
    "print(next(i)) \n",
    "print()\n",
    "\n",
    "#using for loop to iterate over our iterator class\n",
    "for i in SquareNum(5):\n",
    "    print(i)"
   ]
  },
  {
   "cell_type": "markdown",
   "id": "1a28f84e",
   "metadata": {},
   "source": [
    "### Infinite Iterators\n",
    "An infinite iterator is an iterator that continues to produce elements indefinitely.\n",
    "\n",
    "Let us create an infinite iterator using count() function from the itertools module. Here we create an infinite iterator that starts at 1 and increments by 1 each time, and then print the first 3 elements of the infinite iterator."
   ]
  },
  {
   "cell_type": "code",
   "execution_count": 12,
   "id": "cea8a992",
   "metadata": {},
   "outputs": [
    {
     "name": "stdout",
     "output_type": "stream",
     "text": [
      "1\n",
      "3\n",
      "5\n"
     ]
    }
   ],
   "source": [
    "from itertools import count\n",
    "\n",
    "#create infinite iterator that starts at 1 and increments by 2\n",
    "infinite_iterator = count(1, 2)\n",
    "\n",
    "#print the first 3 elements of the infinite iterator\n",
    "for i in range(3):\n",
    "    print(next(infinite_iterator))"
   ]
  },
  {
   "cell_type": "markdown",
   "id": "573e1aac",
   "metadata": {},
   "source": [
    "### Generators\n"
   ]
  }
 ],
 "metadata": {
  "kernelspec": {
   "display_name": "Python 3 (ipykernel)",
   "language": "python",
   "name": "python3"
  },
  "language_info": {
   "codemirror_mode": {
    "name": "ipython",
    "version": 3
   },
   "file_extension": ".py",
   "mimetype": "text/x-python",
   "name": "python",
   "nbconvert_exporter": "python",
   "pygments_lexer": "ipython3",
   "version": "3.9.5"
  }
 },
 "nbformat": 4,
 "nbformat_minor": 5
}
