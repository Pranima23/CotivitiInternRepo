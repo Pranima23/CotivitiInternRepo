{
 "cells": [
  {
   "cell_type": "markdown",
   "id": "eb856e14",
   "metadata": {},
   "source": [
    "# Python Programming Language"
   ]
  },
  {
   "cell_type": "markdown",
   "id": "2349f2da",
   "metadata": {},
   "source": [
    "## Module 3: Literals, Variables and Operators"
   ]
  },
  {
   "cell_type": "markdown",
   "id": "f36a1e16",
   "metadata": {},
   "source": [
    "### Operators\n"
   ]
  },
  {
   "cell_type": "markdown",
   "id": "57f0e92c",
   "metadata": {},
   "source": [
    "#### Arithmetic Operators\n"
   ]
  },
  {
   "cell_type": "code",
   "execution_count": 12,
   "id": "7ebbd9ee",
   "metadata": {},
   "outputs": [
    {
     "name": "stdout",
     "output_type": "stream",
     "text": [
      "Addition: 5 + 2 = 7\n",
      "Subtraction: 4 - 3 = 1\n",
      "Multiplication: 4 * 3 = 12\n",
      "Division: 9 / 3 = 3.0\n",
      "Floor division: 10 // 3 = 3\n",
      "Modulo division: 3 % 2 = 1\n",
      "Power: 3 ** 3 = 27\n"
     ]
    }
   ],
   "source": [
    "#addition\n",
    "print(\"Addition: 5 + 2 =\", 5 + 2) #7\n",
    "\n",
    "#subtraction\n",
    "print(\"Subtraction: 4 - 3 =\", 4 - 3) #1\n",
    "\n",
    "#multiplication\n",
    "print(\"Multiplication: 4 * 3 =\", 4 * 3) #12\n",
    "\n",
    "#division\n",
    "print(\"Division: 9 / 3 =\", 9 / 3) #3.0\n",
    "\n",
    "#floor division\n",
    "print(\"Floor division: 10 // 3 =\", 10 // 3) #3\n",
    "\n",
    "#modulo\n",
    "print(\"Modulo division: 3 % 2 =\", 3 % 2) #1\n",
    "\n",
    "#power\n",
    "print(\"Power: 3 ** 3 =\", 3**3) #27"
   ]
  },
  {
   "cell_type": "markdown",
   "id": "3d229bd4",
   "metadata": {},
   "source": [
    "#### Assignment Operators"
   ]
  },
  {
   "cell_type": "code",
   "execution_count": 13,
   "id": "7948a6a2",
   "metadata": {},
   "outputs": [],
   "source": [
    "#assignment operator\n",
    "x = 5\n",
    "print(x) #5\n",
    "\n",
    "#addition assignment\n",
    "x += 4\n",
    "print(x) #9\n",
    "\n",
    "#subrtaction assignment\n",
    "x -= 1\n",
    "print(x) #8\n",
    "\n",
    "#multiplication assignment\n",
    "x *= 4\n",
    "print(x) #32\n",
    "\n",
    "#division assignment\n",
    "x /= 2\n",
    "print(x) #16.0\n",
    "\n",
    "#remainder assignment\n",
    "x %= 6\n",
    "print(x) #4.0\n",
    "\n",
    "#exponent assignment\n",
    "x **= 2\n",
    "print(x) #16.0"
   ]
  },
  {
   "cell_type": "markdown",
   "id": "5bf49f4f",
   "metadata": {},
   "source": [
    "#### Comparison Operators"
   ]
  },
  {
   "cell_type": "code",
   "execution_count": 14,
   "id": "03ddcd46",
   "metadata": {},
   "outputs": [],
   "source": [
    "#is equal to\n",
    "print(\"2 == 6\", 2 == 6) #False\n",
    "\n",
    "#not equal to\n",
    "print(\"2 != 6\", 2 != 6) #True\n",
    "\n",
    "#greater than\n",
    "print(\"2 > 3\", 2 > 3) #False\n",
    "\n",
    "#less than\n",
    "print(\"2 < 3\", 2 < 3) #True\n",
    "\n",
    "#greater than or equal to\n",
    "print(\"2 >= 3\", 2 >= 3) #False\n",
    "\n",
    "#less than or equal to\n",
    "print(\"2 <= 2\", 2 <= 2) #True"
   ]
  },
  {
   "cell_type": "markdown",
   "id": "120e4df1",
   "metadata": {},
   "source": [
    "#### Logical Operators"
   ]
  },
  {
   "cell_type": "code",
   "execution_count": 15,
   "id": "098a0cb5",
   "metadata": {},
   "outputs": [],
   "source": [
    "#logical and\n",
    "print(\"2 == 2 and 1 == 2\", 2 == 2 and 1 == 2) #False\n",
    "\n",
    "#logical or\n",
    "print(\"2 == 2 or 1 == 2\", 2 == 2 or 1 == 2) #True\n",
    "\n",
    "#logical not\n",
    "print(\"not 2 == 2\", not 2 == 2) #False\n"
   ]
  },
  {
   "cell_type": "markdown",
   "id": "8049bbf5",
   "metadata": {},
   "source": [
    "#### Bitwise Operators"
   ]
  },
  {
   "cell_type": "code",
   "execution_count": 16,
   "id": "04a80c4f",
   "metadata": {},
   "outputs": [],
   "source": [
    "x = 4 #0000 0100\n",
    "y = 10 #0000 1010\n",
    "#bitwise and\n",
    "print(\"4 & 10 =\", x & y) #0000 0000 = 0\n",
    "\n",
    "#bitwise or\n",
    "print(\"4 | 10 =\", x | y) #0000 1110 = 14\n",
    "\n",
    "#bitwise not\n",
    "print(\"~4 =\", ~x) #1111 1011 = \n",
    "\n",
    "#bitwise xor\n",
    "print(\"4 ^ 10 =\", x ^ y) #0000 1110 = 14\n",
    "\n",
    "#bitwise right shift\n",
    "print(\"10 >> 4 =\", y >> x) #0000 0000 = 0\n",
    "\n",
    "#bitwise left shift\n",
    "print(\"10 << 4 =\", y << x) #1010 0000 = 160"
   ]
  },
  {
   "cell_type": "markdown",
   "id": "2f6bccdc",
   "metadata": {},
   "source": [
    "#### Special Operators"
   ]
  },
  {
   "cell_type": "code",
   "execution_count": 17,
   "id": "eadc9d1d",
   "metadata": {},
   "outputs": [],
   "source": [
    "#----- Identity Operators -----\n",
    "x = 3\n",
    "y = 4\n",
    "\n",
    "#is\n",
    "print(x is y) #False\n",
    "\n",
    "#is not\n",
    "print(x is not y) #True\n",
    "\n",
    "#----- Membership Operators -----\n",
    "fruits = [\"apple\", \"banana\", \"pineapple\", \"grape\"]\n",
    "details = {1: \"Krisha\", 2: \"Hritik\", 2: \"Isha\"}\n",
    "\n",
    "# in\n",
    "print(\"apple\" in fruits) #True\n",
    "print(1 in details) #True\n",
    "print(\"Krisha\" in details) #False\n",
    "print(\"isha\" in \"Krisha\") #True\n",
    "\n",
    "#not in\n",
    "print(\"apple\" not in fruits) #False\n",
    "print(5 in details) #False\n"
   ]
  },
  {
   "cell_type": "markdown",
   "id": "81ba637f",
   "metadata": {},
   "source": [
    "### Comments"
   ]
  },
  {
   "cell_type": "code",
   "execution_count": 18,
   "id": "c8088d63",
   "metadata": {},
   "outputs": [],
   "source": [
    "# single line comment\n",
    "\n",
    "\"\"\"\n",
    "multi\n",
    "line\n",
    "comment\n",
    "\"\"\""
   ]
  },
  {
   "cell_type": "markdown",
   "id": "3e5f9b3c",
   "metadata": {},
   "source": [
    "### String and its operators"
   ]
  },
  {
   "cell_type": "markdown",
   "id": "a1c79ef8",
   "metadata": {},
   "source": [
    "#### Single and double quotes"
   ]
  },
  {
   "cell_type": "code",
   "execution_count": 19,
   "id": "11b538f0",
   "metadata": {},
   "outputs": [],
   "source": [
    "# string using single quote ''\n",
    "print('Hi, I am Pranima Kansakar.')\n",
    "print('Hi, I\\'m Pranima Kansakar.')\n",
    "\n",
    "# string using double quote \"\"\n",
    "print(\"Hi, I'm Pranima Kansakar.\")"
   ]
  },
  {
   "cell_type": "markdown",
   "id": "bc807d79",
   "metadata": {},
   "source": [
    "### Accessing string characters"
   ]
  },
  {
   "cell_type": "markdown",
   "id": "f16a5000",
   "metadata": {},
   "source": [
    "#### Indexing"
   ]
  },
  {
   "cell_type": "code",
   "execution_count": 20,
   "id": "844ab645",
   "metadata": {},
   "outputs": [],
   "source": [
    "name = \"Pranima\"\n",
    "\n",
    "#access 4th index element\n",
    "print(name[4]) #i\n",
    "\n",
    "#access 2nd last element\n",
    "print(name[-2]) #m"
   ]
  },
  {
   "cell_type": "markdown",
   "id": "34b3b389",
   "metadata": {},
   "source": [
    "#### Slicing"
   ]
  },
  {
   "cell_type": "code",
   "execution_count": 21,
   "id": "519bc63c",
   "metadata": {},
   "outputs": [],
   "source": [
    "message = \"Hello, there!\"\n",
    "\n",
    "#access characters from 1st to 4th index\n",
    "print(message[1:5])\n",
    "\n",
    "#access characters from 2nd to last index with step 2\n",
    "print(message[2:-1:2])\n",
    "\n",
    "#access character from 2nd last to 1st index element with step -2\n",
    "print(message[-2:0:-2])"
   ]
  },
  {
   "cell_type": "markdown",
   "id": "bf549358",
   "metadata": {},
   "source": [
    "Example to reverse string in python"
   ]
  },
  {
   "cell_type": "code",
   "execution_count": 22,
   "id": "53dcf4a0",
   "metadata": {},
   "outputs": [],
   "source": [
    "#using slicing\n",
    "word = \"Pranima\"\n",
    "print(\"String:\", word)\n",
    "reversed_word = word[-1::-1]\n",
    "print(\"Reversed string using slicing:\", reversed_word)"
   ]
  },
  {
   "cell_type": "code",
   "execution_count": 23,
   "id": "5e2cb53a",
   "metadata": {},
   "outputs": [],
   "source": [
    "#using indexing, join operation and for loop\n",
    "word = \"Pranima\"\n",
    "reversed_word = \"\" #strings are immutable, so we need another variable to store the reversed string instead of changing the original string\n",
    "for i in range(len(word)): #len() method is used to find length of a string\n",
    "    reversed_word = word[i] + reversed_word #join operation on strings\n",
    "print(reversed_word)"
   ]
  },
  {
   "cell_type": "markdown",
   "id": "65144901",
   "metadata": {},
   "source": [
    "Example to capitalize the first and the last character of each word in a string"
   ]
  },
  {
   "cell_type": "code",
   "execution_count": 24,
   "id": "d9c85d28",
   "metadata": {},
   "outputs": [],
   "source": [
    "string = \"My name is pranima kansakar\"\n",
    "words = string.split(' ')\n",
    "\n",
    "new_string = \"\"\n",
    "for word in words:\n",
    "    new_string += word[0].upper() #capitalize first character of word\n",
    "    for i in range(1, len(word) - 1):\n",
    "          new_string += word[i]\n",
    "    new_string += word[-1].upper() #capitalize last character of word\n",
    "    new_string += \" \"\n",
    "\n",
    "print(string)\n",
    "print(new_string)"
   ]
  },
  {
   "cell_type": "markdown",
   "id": "1289edb2",
   "metadata": {},
   "source": [
    "### String Operations"
   ]
  },
  {
   "cell_type": "markdown",
   "id": "a4a09263",
   "metadata": {},
   "source": [
    "#### Comparing two strings"
   ]
  },
  {
   "cell_type": "code",
   "execution_count": 25,
   "id": "92a9ad2c",
   "metadata": {},
   "outputs": [],
   "source": [
    "print(\"hello\" == \"hello\") #True\n",
    "print(\"hello\" == \"Hello\") #False"
   ]
  },
  {
   "cell_type": "markdown",
   "id": "51e12d18",
   "metadata": {},
   "source": [
    "#### Joining two strings"
   ]
  },
  {
   "cell_type": "code",
   "execution_count": 26,
   "id": "74479b54",
   "metadata": {},
   "outputs": [],
   "source": [
    "f_name = \"Pranima\"\n",
    "l_name = \"Kansakar\"\n",
    "print(f_name + l_name)"
   ]
  },
  {
   "cell_type": "markdown",
   "id": "f51210a9",
   "metadata": {},
   "source": [
    "### Iterating through a string"
   ]
  },
  {
   "cell_type": "code",
   "execution_count": 27,
   "id": "9f7d597a",
   "metadata": {},
   "outputs": [],
   "source": [
    "for char in \"apple\":\n",
    "    print(char)"
   ]
  },
  {
   "cell_type": "markdown",
   "id": "65521927",
   "metadata": {},
   "source": [
    "#### Finding length of a string"
   ]
  },
  {
   "cell_type": "code",
   "execution_count": 28,
   "id": "58af4abc",
   "metadata": {},
   "outputs": [],
   "source": [
    "len(\"hello\")"
   ]
  },
  {
   "cell_type": "markdown",
   "id": "01ec7ab2",
   "metadata": {},
   "source": [
    "### String membership test"
   ]
  },
  {
   "cell_type": "code",
   "execution_count": 29,
   "id": "0d7aac05",
   "metadata": {},
   "outputs": [],
   "source": [
    "#check if a string pranima contains a substring ra\n",
    "print(\"ra\" in \"pranima\") #True"
   ]
  },
  {
   "cell_type": "markdown",
   "id": "d94a50aa",
   "metadata": {},
   "source": [
    "### String Methods"
   ]
  },
  {
   "cell_type": "code",
   "execution_count": 30,
   "id": "233289ac",
   "metadata": {},
   "outputs": [],
   "source": [
    "string = \"Hello, there!\"\n",
    "\n",
    "#upper()\n",
    "print(string.upper())\n",
    "\n",
    "#lower()\n",
    "print(string.lower())\n",
    "\n",
    "#partition()\n",
    "print(string.partition(', '))\n",
    "\n",
    "#replace()\n",
    "print(string.replace('Hello', 'Hi'))\n",
    "\n",
    "#find()\n",
    "print(string.find(\"e\"))\n",
    "print(string.find(\"llo\"))\n",
    "print(string.find(\"n\"))\n",
    "\n",
    "#rstrip()\n",
    "print(string.rstrip(\"ll\"))\n",
    "\n",
    "#split()\n",
    "print(string.split(\" \"))\n",
    "\n",
    "#startswith()\n",
    "print(string.startswith(\"l\"))\n",
    "print(string.startswith(\"H\"))\n",
    "\n",
    "#isnumeric()\n",
    "print(string.isnumeric())\n",
    "\n",
    "#index()\n",
    "print(string.index(\"e\"))"
   ]
  },
  {
   "cell_type": "markdown",
   "id": "c492ce12",
   "metadata": {},
   "source": [
    "### Escape Sequences"
   ]
  },
  {
   "cell_type": "code",
   "execution_count": 33,
   "id": "23e12539",
   "metadata": {},
   "outputs": [],
   "source": [
    "print(\"\\\\\") #backslash\n",
    "print('Hi I\\'m Pranima.') #single quote\n",
    "print(\"He said, \\\"Hello!\\\"\") #double quote\n",
    "# print(\"\\a\")\n",
    "# print(\"\\b\")\n",
    "# print(\"\\f\")\n",
    "print(\"It's a lovely day\\n\") #ASCII Linefeed\n",
    "# print(\"\\r\")\n",
    "print(\"This is \\t horizontal tab.\") #ASCII Horizontal tab\n",
    "# print(\"This is \\v vertical tab\") #ASCII Vertical tab\n",
    "# print(\"\\ooo\")\n",
    "# print(\"\\xHH\")"
   ]
  },
  {
   "cell_type": "markdown",
   "id": "7d2031a1",
   "metadata": {},
   "source": [
    "### String Formatting"
   ]
  },
  {
   "cell_type": "code",
   "execution_count": 34,
   "id": "ef4a2b24",
   "metadata": {},
   "outputs": [],
   "source": [
    "fname = \"Pranima\"\n",
    "lname = \"Kanskar\"\n",
    "print(f\"Hello, {fname} {lname}. Nice to meet you!\")"
   ]
  },
  {
   "cell_type": "markdown",
   "id": "383998db",
   "metadata": {},
   "source": [
    "### Booleans and Numbers(Integers, Floats, Scientific Notations)"
   ]
  },
  {
   "cell_type": "code",
   "execution_count": null,
   "id": "2568570d",
   "metadata": {},
   "outputs": [],
   "source": []
  },
  {
   "cell_type": "markdown",
   "id": "6d99a4f7",
   "metadata": {},
   "source": [
    "## Module 5: Data Types"
   ]
  },
  {
   "cell_type": "markdown",
   "id": "6e04d9aa",
   "metadata": {},
   "source": [
    "### List"
   ]
  },
  {
   "cell_type": "code",
   "execution_count": 46,
   "id": "224da6a2",
   "metadata": {},
   "outputs": [
    {
     "name": "stdout",
     "output_type": "stream",
     "text": [
      "List of strings:  ['apple', 'banana', 'grape', 'pineapple']\n",
      "List of integers: [10, 20, 30, 40]\n",
      "List of mixed data types: ['Pranima', 24, 3.9]\n",
      "Empty list: []\n"
     ]
    }
   ],
   "source": [
    "#list with strings\n",
    "fruits = [\"apple\", \"banana\", \"grape\", \"pineapple\"]\n",
    "print(\"List of strings: \", fruits)\n",
    "\n",
    "#list with integers\n",
    "numbers = [10, 20, 30, 40]\n",
    "print(\"List of integers:\", numbers)\n",
    "\n",
    "#list with mixed data types\n",
    "mixed_list = [\"Pranima\", 24, 3.9]\n",
    "print(\"List of mixed data types:\", mixed_list)\n",
    "\n",
    "#empty list\n",
    "empty_list = []\n",
    "print(\"Empty list:\", empty_list)"
   ]
  },
  {
   "cell_type": "markdown",
   "id": "ea420510",
   "metadata": {},
   "source": [
    "#### Accessing list members"
   ]
  },
  {
   "cell_type": "markdown",
   "id": "fc656c1a",
   "metadata": {},
   "source": [
    "#### Indexing and Negative Indexing"
   ]
  },
  {
   "cell_type": "code",
   "execution_count": 47,
   "id": "c203e685",
   "metadata": {},
   "outputs": [
    {
     "name": "stdout",
     "output_type": "stream",
     "text": [
      "Ishar\n",
      "Krisha\n"
     ]
    }
   ],
   "source": [
    "student_names = [\"Pranima\", \"Krisha\", \"Hritik\", \"Ishar\"]\n",
    "\n",
    "#accessing item at index 3\n",
    "print(student_names[3]) #Hritik\n",
    "\n",
    "#accessing item at 3rd last index\n",
    "print(student_names[-3]) #Krisha"
   ]
  },
  {
   "cell_type": "markdown",
   "id": "ddb25470",
   "metadata": {},
   "source": [
    "#### Slicing"
   ]
  },
  {
   "cell_type": "code",
   "execution_count": 51,
   "id": "615c13e2",
   "metadata": {},
   "outputs": [
    {
     "name": "stdout",
     "output_type": "stream",
     "text": [
      "[23, 7, 89]\n",
      "[89, 9, 78, 5]\n",
      "[12, 34, 23, 7, 89, 9, 78, 5]\n",
      "[12, 7, 78]\n",
      "[5, 78, 9, 89, 7, 23, 34, 12]\n"
     ]
    }
   ],
   "source": [
    "ages = [12, 34, 23, 7, 89, 9, 78, 5]\n",
    "\n",
    "#accessing items from index 2 to 4\n",
    "print(ages[2:5])\n",
    "\n",
    "#items from index 4 to end\n",
    "print(ages[4:])\n",
    "\n",
    "#items from beginning to end\n",
    "print(ages[:])\n",
    "\n",
    "#items from beginning to end with step 3\n",
    "print(ages[::3])\n",
    "\n",
    "#items from end to beginning\n",
    "print(ages[-1::-1])"
   ]
  },
  {
   "cell_type": "markdown",
   "id": "e235c982",
   "metadata": {},
   "source": [
    "### List Function and methods"
   ]
  },
  {
   "cell_type": "markdown",
   "id": "dca6eccc",
   "metadata": {},
   "source": [
    "#### Adding items to list"
   ]
  },
  {
   "cell_type": "code",
   "execution_count": 58,
   "id": "8751bfe2",
   "metadata": {},
   "outputs": [
    {
     "name": "stdout",
     "output_type": "stream",
     "text": [
      "Original list: ['Python', 'C++', 'javaScript', 'Java']\n",
      "List after appending 'Go': ['Python', 'C++', 'javaScript', 'Java', 'Go']\n",
      "List after extending with list ['Rust', 'Ruby']: ['Python', 'C++', 'javaScript', 'Java', 'Go', 'Rust', 'Ruby']\n"
     ]
    }
   ],
   "source": [
    "languages = [\"Python\", \"C++\", \"javaScript\", \"Java\"]\n",
    "print(\"Original list:\", languages)\n",
    "\n",
    "#adding an item to the end of the list using append()\n",
    "languages.append(\"Go\")\n",
    "print(\"List after appending 'Go':\", languages)\n",
    "\n",
    "#adding items of lists and other iterables to the end of the list using extend()\n",
    "languages.extend([\"Rust\", \"Ruby\"])\n",
    "print(\"List after extending with list ['Rust', 'Ruby']:\", languages)\n",
    "\n",
    "#inseting an item at the specified index using insert()"
   ]
  },
  {
   "cell_type": "markdown",
   "id": "f35c2d4e",
   "metadata": {},
   "source": [
    "#### Removing items from the list"
   ]
  },
  {
   "cell_type": "markdown",
   "id": "08d1d9fe",
   "metadata": {},
   "source": [
    "##### Removing an item from the list using remove()\n",
    "The remove() method removes the first matching element passed as an argument from the list. It does not return any value (returns None)."
   ]
  },
  {
   "cell_type": "code",
   "execution_count": 69,
   "id": "7ca750ac",
   "metadata": {},
   "outputs": [
    {
     "name": "stdout",
     "output_type": "stream",
     "text": [
      "Original list: ['Python', 'C++', 'javaScript', 'Java', 'Go', 'Rust', 'Ruby', 'Python']\n",
      "List after removing 'Go': ['Python', 'C++', 'javaScript', 'Java', 'Rust', 'Ruby', 'Python']\n",
      "List after removing a duplicate item 'Python':  ['C++', 'javaScript', 'Java', 'Rust', 'Ruby', 'Python']\n"
     ]
    },
    {
     "ename": "ValueError",
     "evalue": "list.remove(x): x not in list",
     "output_type": "error",
     "traceback": [
      "\u001b[1;31m---------------------------------------------------------------------------\u001b[0m",
      "\u001b[1;31mValueError\u001b[0m                                Traceback (most recent call last)",
      "Cell \u001b[1;32mIn[69], line 15\u001b[0m\n\u001b[0;32m     11\u001b[0m \u001b[38;5;28mprint\u001b[39m(\u001b[38;5;124m\"\u001b[39m\u001b[38;5;124mList after removing a duplicate item \u001b[39m\u001b[38;5;124m'\u001b[39m\u001b[38;5;124mPython\u001b[39m\u001b[38;5;124m'\u001b[39m\u001b[38;5;124m: \u001b[39m\u001b[38;5;124m\"\u001b[39m, languages)\n\u001b[0;32m     13\u001b[0m \u001b[38;5;66;03m#remove an item that doesn't exist\u001b[39;00m\n\u001b[0;32m     14\u001b[0m \u001b[38;5;66;03m#throws ValueError exception\u001b[39;00m\n\u001b[1;32m---> 15\u001b[0m \u001b[43mlanguages\u001b[49m\u001b[38;5;241;43m.\u001b[39;49m\u001b[43mremove\u001b[49m\u001b[43m(\u001b[49m\u001b[38;5;124;43m\"\u001b[39;49m\u001b[38;5;124;43mDart\u001b[39;49m\u001b[38;5;124;43m\"\u001b[39;49m\u001b[43m)\u001b[49m\n",
      "\u001b[1;31mValueError\u001b[0m: list.remove(x): x not in list"
     ]
    }
   ],
   "source": [
    "languages = ['Python', 'C++', 'javaScript', 'Java', 'Go', 'Rust', 'Ruby', 'Python']\n",
    "print(\"Original list:\", languages)\n",
    "\n",
    "#remove an element from the list\n",
    "languages.remove(\"Go\")\n",
    "print(\"List after removing 'Go':\", languages)\n",
    "\n",
    "#remove an item from the list with duplicate items\n",
    "# only the first matching element is removed\n",
    "languages.remove(\"Python\")\n",
    "print(\"List after removing a duplicate item 'Python': \", languages)\n",
    "\n",
    "#remove an item that doesn't exist\n",
    "#throws ValueError exception\n",
    "languages.remove(\"Dart\")\n"
   ]
  },
  {
   "cell_type": "markdown",
   "id": "3ab6f471",
   "metadata": {},
   "source": [
    "##### Return and remove item at given index using pop()\n",
    "The pop() method remobes the item at the given index from the list and returns the removed item."
   ]
  },
  {
   "cell_type": "code",
   "execution_count": 70,
   "id": "b3f280fe",
   "metadata": {},
   "outputs": [
    {
     "name": "stdout",
     "output_type": "stream",
     "text": [
      "Removed item at index 3: Java\n",
      "List after removing item at index 3 ['Python', 'C++', 'javaScript', 'Go', 'Rust', 'Ruby', 'Python']\n",
      "Removed item: Python\n",
      "Removed item: Ruby\n",
      "List after popping two items from the last: ['Python', 'C++', 'javaScript', 'Go', 'Rust']\n"
     ]
    }
   ],
   "source": [
    "languages = ['Python', 'C++', 'javaScript', 'Java', 'Go', 'Rust', 'Ruby', 'Python']\n",
    "\n",
    "#return and remove the item at index 3\n",
    "print(\"Removed item at index 3:\", languages.pop(3))\n",
    "print(\"List after removing item at index 3\", languages)\n",
    "\n",
    "#return and remove the last item\n",
    "print(\"Removed item:\", languages.pop()) #without passing argument\n",
    "print(\"Removed item:\", languages.pop(-1)) #using negative indexing\n",
    "print(\"List after popping two items from the last:\", languages)\n",
    "\n",
    "#remove all items from the list"
   ]
  },
  {
   "cell_type": "markdown",
   "id": "e943e52c",
   "metadata": {},
   "source": [
    "##### Remove all items from the list using clear()\n",
    "The clear() method removes all items from the list."
   ]
  },
  {
   "cell_type": "code",
   "execution_count": 71,
   "id": "f46cfd2f",
   "metadata": {},
   "outputs": [
    {
     "name": "stdout",
     "output_type": "stream",
     "text": [
      "[]\n"
     ]
    }
   ],
   "source": [
    "numbers = [1, 2, 3, 4, 5]\n",
    "\n",
    "#remove all elements form the list\n",
    "numbers.clear()\n",
    "print(numbers)"
   ]
  },
  {
   "cell_type": "markdown",
   "id": "1ca1e5a7",
   "metadata": {},
   "source": [
    "#### Other methods"
   ]
  },
  {
   "cell_type": "markdown",
   "id": "64f6edf2",
   "metadata": {},
   "source": [
    "#### count()\n",
    "The count() method counts the number of times the specified element appears in the list. "
   ]
  },
  {
   "cell_type": "code",
   "execution_count": 76,
   "id": "90fc4acb",
   "metadata": {},
   "outputs": [
    {
     "name": "stdout",
     "output_type": "stream",
     "text": [
      "Count of 1: 3\n",
      "Count of 10: 0\n",
      "Count of (1, 1): 2\n",
      "Count of [2, 4]: 1\n"
     ]
    }
   ],
   "source": [
    "#count the occurences of 1 from the list of integers\n",
    "numbers = [1, 2, 3, 4, 1, 7, 4, 2, 1]\n",
    "print(\"Count of 1:\", numbers.count(1))\n",
    "\n",
    "#count the ocurrence of non-existent number 10 from the list\n",
    "print(\"Count of 10:\", numbers.count(10))\n",
    "\n",
    "#count tuple and list elements inside list\n",
    "eg_list = [(1, 1), [2, 4], (1, 1), [3, 2], 7.9]\n",
    "print(\"Count of (1, 1):\", eg_list.count((1,1)))\n",
    "print(\"Count of [2, 4]:\", eg_list.count([2, 4]))"
   ]
  },
  {
   "cell_type": "markdown",
   "id": "5fdc4f5a",
   "metadata": {},
   "source": [
    "#### sort()\n"
   ]
  },
  {
   "cell_type": "code",
   "execution_count": null,
   "id": "bdfaca71",
   "metadata": {},
   "outputs": [],
   "source": []
  },
  {
   "cell_type": "code",
   "execution_count": null,
   "id": "483647ec",
   "metadata": {},
   "outputs": [],
   "source": [
    "\n",
    "#sort the list in ascending/descending order\n",
    "\n",
    "#reverse the item of the list\n",
    "\n",
    "#return the shallow copy of the list"
   ]
  }
 ],
 "metadata": {
  "kernelspec": {
   "display_name": "Python 3 (ipykernel)",
   "language": "python",
   "name": "python3"
  },
  "language_info": {
   "codemirror_mode": {
    "name": "ipython",
    "version": 3
   },
   "file_extension": ".py",
   "mimetype": "text/x-python",
   "name": "python",
   "nbconvert_exporter": "python",
   "pygments_lexer": "ipython3",
   "version": "3.9.5"
  }
 },
 "nbformat": 4,
 "nbformat_minor": 5
}
