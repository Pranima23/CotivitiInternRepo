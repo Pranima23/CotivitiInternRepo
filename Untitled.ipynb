{
 "cells": [
  {
   "cell_type": "markdown",
   "id": "eb856e14",
   "metadata": {},
   "source": [
    "# Python Programming Language"
   ]
  },
  {
   "cell_type": "markdown",
   "id": "2349f2da",
   "metadata": {},
   "source": [
    "## Module 3: Literals, Variables and Operators"
   ]
  },
  {
   "cell_type": "markdown",
   "id": "f36a1e16",
   "metadata": {},
   "source": [
    "### Operators\n"
   ]
  },
  {
   "cell_type": "markdown",
   "id": "57f0e92c",
   "metadata": {},
   "source": [
    "#### Arithmetic Operators\n"
   ]
  },
  {
   "cell_type": "code",
   "execution_count": 103,
   "id": "7ebbd9ee",
   "metadata": {},
   "outputs": [
    {
     "name": "stdout",
     "output_type": "stream",
     "text": [
      "Addition: 5 + 2 = 7\n",
      "Subtraction: 4 - 3 = 1\n",
      "Multiplication: 4 * 3 = 12\n",
      "Division: 9 / 3 = 3.0\n",
      "Floor division: 10 // 3 = 3\n",
      "Modulo division: 3 % 2 = 1\n",
      "Power: 3 ** 3 = 27\n"
     ]
    }
   ],
   "source": [
    "#addition\n",
    "print(\"Addition: 5 + 2 =\", 5 + 2) #7\n",
    "\n",
    "#subtraction\n",
    "print(\"Subtraction: 4 - 3 =\", 4 - 3) #1\n",
    "\n",
    "#multiplication\n",
    "print(\"Multiplication: 4 * 3 =\", 4 * 3) #12\n",
    "\n",
    "#division\n",
    "print(\"Division: 9 / 3 =\", 9 / 3) #3.0\n",
    "\n",
    "#floor division\n",
    "print(\"Floor division: 10 // 3 =\", 10 // 3) #3\n",
    "\n",
    "#modulo\n",
    "print(\"Modulo division: 3 % 2 =\", 3 % 2) #1\n",
    "\n",
    "#power\n",
    "print(\"Power: 3 ** 3 =\", 3**3) #27"
   ]
  },
  {
   "cell_type": "markdown",
   "id": "3d229bd4",
   "metadata": {},
   "source": [
    "#### Assignment Operators"
   ]
  },
  {
   "cell_type": "code",
   "execution_count": 104,
   "id": "7948a6a2",
   "metadata": {},
   "outputs": [
    {
     "name": "stdout",
     "output_type": "stream",
     "text": [
      "5\n",
      "9\n",
      "8\n",
      "32\n",
      "16.0\n",
      "4.0\n",
      "16.0\n"
     ]
    }
   ],
   "source": [
    "#assignment operator\n",
    "x = 5\n",
    "print(x) #5\n",
    "\n",
    "#addition assignment\n",
    "x += 4\n",
    "print(x) #9\n",
    "\n",
    "#subrtaction assignment\n",
    "x -= 1\n",
    "print(x) #8\n",
    "\n",
    "#multiplication assignment\n",
    "x *= 4\n",
    "print(x) #32\n",
    "\n",
    "#division assignment\n",
    "x /= 2\n",
    "print(x) #16.0\n",
    "\n",
    "#remainder assignment\n",
    "x %= 6\n",
    "print(x) #4.0\n",
    "\n",
    "#exponent assignment\n",
    "x **= 2\n",
    "print(x) #16.0"
   ]
  },
  {
   "cell_type": "markdown",
   "id": "5bf49f4f",
   "metadata": {},
   "source": [
    "#### Comparison Operators"
   ]
  },
  {
   "cell_type": "code",
   "execution_count": 105,
   "id": "03ddcd46",
   "metadata": {},
   "outputs": [
    {
     "name": "stdout",
     "output_type": "stream",
     "text": [
      "2 == 6 False\n",
      "2 != 6 True\n",
      "2 > 3 False\n",
      "2 < 3 True\n",
      "2 >= 3 False\n",
      "2 <= 2 True\n"
     ]
    }
   ],
   "source": [
    "#is equal to\n",
    "print(\"2 == 6\", 2 == 6) #False\n",
    "\n",
    "#not equal to\n",
    "print(\"2 != 6\", 2 != 6) #True\n",
    "\n",
    "#greater than\n",
    "print(\"2 > 3\", 2 > 3) #False\n",
    "\n",
    "#less than\n",
    "print(\"2 < 3\", 2 < 3) #True\n",
    "\n",
    "#greater than or equal to\n",
    "print(\"2 >= 3\", 2 >= 3) #False\n",
    "\n",
    "#less than or equal to\n",
    "print(\"2 <= 2\", 2 <= 2) #True"
   ]
  },
  {
   "cell_type": "markdown",
   "id": "120e4df1",
   "metadata": {},
   "source": [
    "#### Logical Operators"
   ]
  },
  {
   "cell_type": "code",
   "execution_count": 106,
   "id": "098a0cb5",
   "metadata": {},
   "outputs": [
    {
     "name": "stdout",
     "output_type": "stream",
     "text": [
      "2 == 2 and 1 == 2 False\n",
      "2 == 2 or 1 == 2 True\n",
      "not 2 == 2 False\n"
     ]
    }
   ],
   "source": [
    "#logical and\n",
    "print(\"2 == 2 and 1 == 2\", 2 == 2 and 1 == 2) #False\n",
    "\n",
    "#logical or\n",
    "print(\"2 == 2 or 1 == 2\", 2 == 2 or 1 == 2) #True\n",
    "\n",
    "#logical not\n",
    "print(\"not 2 == 2\", not 2 == 2) #False\n"
   ]
  },
  {
   "cell_type": "markdown",
   "id": "8049bbf5",
   "metadata": {},
   "source": [
    "#### Bitwise Operators"
   ]
  },
  {
   "cell_type": "code",
   "execution_count": 107,
   "id": "04a80c4f",
   "metadata": {},
   "outputs": [
    {
     "name": "stdout",
     "output_type": "stream",
     "text": [
      "4 & 10 = 0\n",
      "4 | 10 = 14\n",
      "~4 = -5\n",
      "4 ^ 10 = 14\n",
      "10 >> 4 = 0\n",
      "10 << 4 = 160\n"
     ]
    }
   ],
   "source": [
    "x = 4 #0000 0100\n",
    "y = 10 #0000 1010\n",
    "#bitwise and\n",
    "print(\"4 & 10 =\", x & y) #0000 0000 = 0\n",
    "\n",
    "#bitwise or\n",
    "print(\"4 | 10 =\", x | y) #0000 1110 = 14\n",
    "\n",
    "#bitwise not\n",
    "print(\"~4 =\", ~x) #1111 1011 = \n",
    "\n",
    "#bitwise xor\n",
    "print(\"4 ^ 10 =\", x ^ y) #0000 1110 = 14\n",
    "\n",
    "#bitwise right shift\n",
    "print(\"10 >> 4 =\", y >> x) #0000 0000 = 0\n",
    "\n",
    "#bitwise left shift\n",
    "print(\"10 << 4 =\", y << x) #1010 0000 = 160"
   ]
  },
  {
   "cell_type": "markdown",
   "id": "2f6bccdc",
   "metadata": {},
   "source": [
    "#### Special Operators"
   ]
  },
  {
   "cell_type": "code",
   "execution_count": 108,
   "id": "eadc9d1d",
   "metadata": {},
   "outputs": [
    {
     "name": "stdout",
     "output_type": "stream",
     "text": [
      "False\n",
      "True\n",
      "True\n",
      "True\n",
      "False\n",
      "True\n",
      "False\n",
      "False\n"
     ]
    }
   ],
   "source": [
    "#----- Identity Operators -----\n",
    "x = 3\n",
    "y = 4\n",
    "\n",
    "#is\n",
    "print(x is y) #False\n",
    "\n",
    "#is not\n",
    "print(x is not y) #True\n",
    "\n",
    "#----- Membership Operators -----\n",
    "fruits = [\"apple\", \"banana\", \"pineapple\", \"grape\"]\n",
    "details = {1: \"Krisha\", 2: \"Hritik\", 2: \"Isha\"}\n",
    "\n",
    "# in\n",
    "print(\"apple\" in fruits) #True\n",
    "print(1 in details) #True\n",
    "print(\"Krisha\" in details) #False\n",
    "print(\"isha\" in \"Krisha\") #True\n",
    "\n",
    "#not in\n",
    "print(\"apple\" not in fruits) #False\n",
    "print(5 in details) #False\n"
   ]
  },
  {
   "cell_type": "markdown",
   "id": "81ba637f",
   "metadata": {},
   "source": [
    "### Comments"
   ]
  },
  {
   "cell_type": "code",
   "execution_count": 109,
   "id": "c8088d63",
   "metadata": {},
   "outputs": [
    {
     "data": {
      "text/plain": [
       "'\\nmulti\\nline\\ncomment\\n'"
      ]
     },
     "execution_count": 109,
     "metadata": {},
     "output_type": "execute_result"
    }
   ],
   "source": [
    "# single line comment\n",
    "\n",
    "\"\"\"\n",
    "multi\n",
    "line\n",
    "comment\n",
    "\"\"\""
   ]
  },
  {
   "cell_type": "markdown",
   "id": "3e5f9b3c",
   "metadata": {},
   "source": [
    "### String and its operators"
   ]
  },
  {
   "cell_type": "markdown",
   "id": "a1c79ef8",
   "metadata": {},
   "source": [
    "#### Single and double quotes"
   ]
  },
  {
   "cell_type": "code",
   "execution_count": 110,
   "id": "11b538f0",
   "metadata": {},
   "outputs": [
    {
     "name": "stdout",
     "output_type": "stream",
     "text": [
      "Hi, I am Pranima Kansakar.\n",
      "Hi, I'm Pranima Kansakar.\n",
      "Hi, I'm Pranima Kansakar.\n"
     ]
    }
   ],
   "source": [
    "# string using single quote ''\n",
    "print('Hi, I am Pranima Kansakar.')\n",
    "print('Hi, I\\'m Pranima Kansakar.')\n",
    "\n",
    "# string using double quote \"\"\n",
    "print(\"Hi, I'm Pranima Kansakar.\")"
   ]
  },
  {
   "cell_type": "markdown",
   "id": "bc807d79",
   "metadata": {},
   "source": [
    "### Accessing string characters"
   ]
  },
  {
   "cell_type": "markdown",
   "id": "f16a5000",
   "metadata": {},
   "source": [
    "#### Indexing"
   ]
  },
  {
   "cell_type": "code",
   "execution_count": 111,
   "id": "844ab645",
   "metadata": {},
   "outputs": [
    {
     "name": "stdout",
     "output_type": "stream",
     "text": [
      "i\n",
      "m\n"
     ]
    }
   ],
   "source": [
    "name = \"Pranima\"\n",
    "\n",
    "#access 4th index element\n",
    "print(name[4]) #i\n",
    "\n",
    "#access 2nd last element\n",
    "print(name[-2]) #m"
   ]
  },
  {
   "cell_type": "markdown",
   "id": "34b3b389",
   "metadata": {},
   "source": [
    "#### Slicing"
   ]
  },
  {
   "cell_type": "code",
   "execution_count": 112,
   "id": "519bc63c",
   "metadata": {},
   "outputs": [
    {
     "name": "stdout",
     "output_type": "stream",
     "text": [
      "ello\n",
      "lo hr\n",
      "eet,le\n"
     ]
    }
   ],
   "source": [
    "message = \"Hello, there!\"\n",
    "\n",
    "#access characters from 1st to 4th index\n",
    "print(message[1:5])\n",
    "\n",
    "#access characters from 2nd to last index with step 2\n",
    "print(message[2:-1:2])\n",
    "\n",
    "#access character from 2nd last to 1st index element with step -2\n",
    "print(message[-2:0:-2])"
   ]
  },
  {
   "cell_type": "markdown",
   "id": "bf549358",
   "metadata": {},
   "source": [
    "Example to reverse string in python"
   ]
  },
  {
   "cell_type": "code",
   "execution_count": 113,
   "id": "53dcf4a0",
   "metadata": {},
   "outputs": [
    {
     "name": "stdout",
     "output_type": "stream",
     "text": [
      "String: Pranima\n",
      "Reversed string using slicing: aminarP\n"
     ]
    }
   ],
   "source": [
    "#using slicing\n",
    "word = \"Pranima\"\n",
    "print(\"String:\", word)\n",
    "reversed_word = word[-1::-1]\n",
    "print(\"Reversed string using slicing:\", reversed_word)"
   ]
  },
  {
   "cell_type": "code",
   "execution_count": 114,
   "id": "5e2cb53a",
   "metadata": {},
   "outputs": [
    {
     "name": "stdout",
     "output_type": "stream",
     "text": [
      "aminarP\n"
     ]
    }
   ],
   "source": [
    "#using indexing, join operation and for loop\n",
    "word = \"Pranima\"\n",
    "reversed_word = \"\" #strings are immutable, so we need another variable to store the reversed string instead of changing the original string\n",
    "for i in range(len(word)): #len() method is used to find length of a string\n",
    "    reversed_word = word[i] + reversed_word #join operation on strings\n",
    "print(reversed_word)"
   ]
  },
  {
   "cell_type": "markdown",
   "id": "65144901",
   "metadata": {},
   "source": [
    "Example to capitalize the first and the last character of each word in a string"
   ]
  },
  {
   "cell_type": "code",
   "execution_count": 140,
   "id": "d9c85d28",
   "metadata": {},
   "outputs": [
    {
     "name": "stdout",
     "output_type": "stream",
     "text": [
      "My name is pranima kansakar i\n",
      "MY NamE IS PranimA KansakaR II \n"
     ]
    }
   ],
   "source": [
    "string = \"My name is pranima kansakar i\"\n",
    "words = string.split(' ')\n",
    "\n",
    "new_string = \"\"\n",
    "for word in words:\n",
    "    new_string += word[0].upper() #capitalize first character of word\n",
    "    for i in range(1, len(word) - 1):\n",
    "          new_string += word[i]\n",
    "    new_string += word[-1].upper() #capitalize last character of word\n",
    "    new_string += \" \"\n",
    "\n",
    "print(string)\n",
    "print(new_string)"
   ]
  },
  {
   "cell_type": "markdown",
   "id": "1289edb2",
   "metadata": {},
   "source": [
    "### String Operations"
   ]
  },
  {
   "cell_type": "markdown",
   "id": "a4a09263",
   "metadata": {},
   "source": [
    "#### Comparing two strings"
   ]
  },
  {
   "cell_type": "code",
   "execution_count": 116,
   "id": "92a9ad2c",
   "metadata": {},
   "outputs": [
    {
     "name": "stdout",
     "output_type": "stream",
     "text": [
      "True\n",
      "False\n"
     ]
    }
   ],
   "source": [
    "print(\"hello\" == \"hello\") #True\n",
    "print(\"hello\" == \"Hello\") #False"
   ]
  },
  {
   "cell_type": "markdown",
   "id": "51e12d18",
   "metadata": {},
   "source": [
    "#### Joining two strings"
   ]
  },
  {
   "cell_type": "code",
   "execution_count": 117,
   "id": "74479b54",
   "metadata": {},
   "outputs": [
    {
     "name": "stdout",
     "output_type": "stream",
     "text": [
      "PranimaKansakar\n"
     ]
    }
   ],
   "source": [
    "f_name = \"Pranima\"\n",
    "l_name = \"Kansakar\"\n",
    "print(f_name + l_name)"
   ]
  },
  {
   "cell_type": "markdown",
   "id": "f51210a9",
   "metadata": {},
   "source": [
    "### Iterating through a string"
   ]
  },
  {
   "cell_type": "code",
   "execution_count": 118,
   "id": "9f7d597a",
   "metadata": {},
   "outputs": [
    {
     "name": "stdout",
     "output_type": "stream",
     "text": [
      "a\n",
      "p\n",
      "p\n",
      "l\n",
      "e\n"
     ]
    }
   ],
   "source": [
    "for char in \"apple\":\n",
    "    print(char)"
   ]
  },
  {
   "cell_type": "markdown",
   "id": "65521927",
   "metadata": {},
   "source": [
    "#### Finding length of a string"
   ]
  },
  {
   "cell_type": "code",
   "execution_count": 119,
   "id": "58af4abc",
   "metadata": {},
   "outputs": [
    {
     "data": {
      "text/plain": [
       "5"
      ]
     },
     "execution_count": 119,
     "metadata": {},
     "output_type": "execute_result"
    }
   ],
   "source": [
    "len(\"hello\")"
   ]
  },
  {
   "cell_type": "markdown",
   "id": "01ec7ab2",
   "metadata": {},
   "source": [
    "### String membership test"
   ]
  },
  {
   "cell_type": "code",
   "execution_count": 120,
   "id": "0d7aac05",
   "metadata": {},
   "outputs": [
    {
     "name": "stdout",
     "output_type": "stream",
     "text": [
      "True\n"
     ]
    }
   ],
   "source": [
    "#check if a string pranima contains a substring ra\n",
    "print(\"ra\" in \"pranima\") #True"
   ]
  },
  {
   "cell_type": "markdown",
   "id": "d94a50aa",
   "metadata": {},
   "source": [
    "### String Methods"
   ]
  },
  {
   "cell_type": "code",
   "execution_count": 1,
   "id": "233289ac",
   "metadata": {
    "scrolled": true
   },
   "outputs": [
    {
     "name": "stdout",
     "output_type": "stream",
     "text": [
      "HELLO, THERE!\n",
      "hello, there!\n",
      "('Hello', ', ', 'there!')\n",
      "Hi, there!\n",
      "1\n",
      "2\n",
      "-1\n",
      "Hello, there!\n",
      "['Hello,', 'there!']\n",
      "False\n",
      "True\n",
      "False\n",
      "1\n"
     ]
    }
   ],
   "source": [
    "greet = \"Hello, there!\"\n",
    "\n",
    "#upper()\n",
    "print(greet.upper())\n",
    "\n",
    "#lower()\n",
    "print(greet.lower())\n",
    "\n",
    "#partition()\n",
    "print(greet.partition(', '))\n",
    "\n",
    "#replace()\n",
    "print(greet.replace('Hello', 'Hi'))\n",
    "\n",
    "#find()\n",
    "print(greet.find(\"e\"))\n",
    "print(greet.find(\"llo\"))\n",
    "print(greet.find(\"n\"))\n",
    "\n",
    "#rstrip()\n",
    "print(greet.rstrip(\"ll\"))\n",
    "\n",
    "#split()\n",
    "print(greet.split(\" \"))\n",
    "\n",
    "#startswith()\n",
    "print(greet.startswith(\"l\"))\n",
    "print(greet.startswith(\"H\"))\n",
    "\n",
    "#isnumeric()\n",
    "print(greet.isnumeric())\n",
    "\n",
    "#index()\n",
    "print(greet.index(\"e\"))"
   ]
  },
  {
   "cell_type": "markdown",
   "id": "c492ce12",
   "metadata": {},
   "source": [
    "### Escape Sequences"
   ]
  },
  {
   "cell_type": "code",
   "execution_count": 122,
   "id": "23e12539",
   "metadata": {},
   "outputs": [
    {
     "name": "stdout",
     "output_type": "stream",
     "text": [
      "\\\n",
      "Hi I'm Pranima.\n",
      "He said, \"Hello!\"\n",
      "It's a lovely day\n",
      "\n",
      "This is \t horizontal tab.\n"
     ]
    }
   ],
   "source": [
    "print(\"\\\\\") #backslash\n",
    "print('Hi I\\'m Pranima.') #single quote\n",
    "print(\"He said, \\\"Hello!\\\"\") #double quote\n",
    "# print(\"\\a\")\n",
    "# print(\"\\b\")\n",
    "# print(\"\\f\")\n",
    "print(\"It's a lovely day\\n\") #ASCII Linefeed\n",
    "# print(\"\\r\")\n",
    "print(\"This is \\t horizontal tab.\") #ASCII Horizontal tab\n",
    "# print(\"This is \\v vertical tab\") #ASCII Vertical tab\n",
    "# print(\"\\ooo\")\n",
    "# print(\"\\xHH\")"
   ]
  },
  {
   "cell_type": "markdown",
   "id": "7d2031a1",
   "metadata": {},
   "source": [
    "### String Formatting"
   ]
  },
  {
   "cell_type": "code",
   "execution_count": 123,
   "id": "ef4a2b24",
   "metadata": {},
   "outputs": [
    {
     "name": "stdout",
     "output_type": "stream",
     "text": [
      "Hello, Pranima Kanskar. Nice to meet you!\n"
     ]
    }
   ],
   "source": [
    "fname = \"Pranima\"\n",
    "lname = \"Kanskar\"\n",
    "print(f\"Hello, {fname} {lname}. Nice to meet you!\") \n",
    "\n",
    "\n",
    "#try with logger"
   ]
  },
  {
   "cell_type": "markdown",
   "id": "383998db",
   "metadata": {},
   "source": [
    "### Booleans and Numbers(Integers, Floats, Scientific Notations)"
   ]
  },
  {
   "cell_type": "markdown",
   "id": "7d9b7a32",
   "metadata": {},
   "source": [
    "#### Booleans"
   ]
  },
  {
   "cell_type": "markdown",
   "id": "f8da159d",
   "metadata": {},
   "source": [
    "The boolean value can be of two types only i.e. either True or False. The output <class ‘bool’> indicates the variable is a boolean data type."
   ]
  },
  {
   "cell_type": "code",
   "execution_count": 2,
   "id": "a88ab84e",
   "metadata": {},
   "outputs": [
    {
     "name": "stdout",
     "output_type": "stream",
     "text": [
      "<class 'bool'>\n",
      "<class 'bool'>\n"
     ]
    }
   ],
   "source": [
    "a = True\n",
    "print(type(a))\n",
    " \n",
    "b = False\n",
    "print(type(b))"
   ]
  },
  {
   "cell_type": "markdown",
   "id": "86091f44",
   "metadata": {},
   "source": [
    "##### bool() method"
   ]
  },
  {
   "cell_type": "markdown",
   "id": "30e9aaa6",
   "metadata": {},
   "source": [
    "The bool() method returns:\n",
    "\n",
    "- False - if argument is empty, False, 0 or None\n",
    "- True - if argument is any number (besides 0), True or a string"
   ]
  },
  {
   "cell_type": "code",
   "execution_count": 5,
   "id": "bd6ade24",
   "metadata": {},
   "outputs": [
    {
     "name": "stdout",
     "output_type": "stream",
     "text": [
      "3 -> True\n",
      "3.7 -> True\n",
      "Testing what bool() method returns. -> True\n",
      "True -> True\n"
     ]
    }
   ],
   "source": [
    "s = 3 #integer\n",
    "print(f\"{a} -> {bool(a)}\") #True\n",
    "\n",
    "d = 3.7 #float\n",
    "print(f\"{d} -> {bool(d)}\") #True\n",
    "\n",
    "f = \"Testing what bool() method returns.\" #string\n",
    "print(f\"{f} -> {bool(f)}\") #True\n",
    "\n",
    "g = True #boolean\n",
    "print(f\"{g} -> {bool(g)}\") #True"
   ]
  },
  {
   "cell_type": "code",
   "execution_count": 6,
   "id": "f628c622",
   "metadata": {},
   "outputs": [
    {
     "name": "stdout",
     "output_type": "stream",
     "text": [
      "0 -> False\n",
      "None -> False\n",
      "False -> False\n",
      "[] -> False\n"
     ]
    }
   ],
   "source": [
    "s1 = 0 #zero\n",
    "print(f\"{s1} -> {bool(s1)}\") #False\n",
    "\n",
    "s2 = None #none\n",
    "print(f\"{s2} -> {bool(s2)}\") #False\n",
    "\n",
    "s3 = False\n",
    "print(f\"{s3} -> {bool(s3)}\") #False\n",
    "\n",
    "s4 = [] #any empty argument\n",
    "print(f\"{s4} -> {bool(s4)}\") #False"
   ]
  },
  {
   "cell_type": "markdown",
   "id": "100f2224",
   "metadata": {},
   "source": [
    "#### Boolean Operators\n",
    "Boolean Operations are simple arithmetic of True and False values. These values can be manipulated by the use of boolean operators which include AND, Or, and NOT. Common boolean operations are –\n",
    "\n",
    "- or\n",
    "- and\n",
    "- not\n",
    "- == (equivalent)\n",
    "- != (not equivalent)\n"
   ]
  },
  {
   "cell_type": "markdown",
   "id": "3a18f0f4",
   "metadata": {},
   "source": [
    "#### Numbers"
   ]
  },
  {
   "cell_type": "markdown",
   "id": "c5784aa2",
   "metadata": {},
   "source": [
    "Python supports integers, floating-point numbers and complex numbers. They are defined as int, float, and complex classes in Python.\n",
    "\n",
    "- int - holds signed integers of non-limited length.\n",
    "- float - holds floating decimal points and it's accurate up to 15 decimal places.\n",
    "- complex - holds complex numbers."
   ]
  },
  {
   "cell_type": "code",
   "execution_count": 9,
   "id": "b6202c54",
   "metadata": {},
   "outputs": [
    {
     "name": "stdout",
     "output_type": "stream",
     "text": [
      "3 is of type <class 'int'>\n",
      "3.432 is of type <class 'float'>\n",
      "3000000000000.0 is of type <class 'float'>\n",
      "(8+4j) is of type <class 'complex'>\n"
     ]
    }
   ],
   "source": [
    "num1 = 3 #integer\n",
    "print(num1, 'is of type', type(num1))\n",
    "\n",
    "num2 = 3.432 #float\n",
    "num3 = 3e12\n",
    "print(num2, 'is of type', type(num2))\n",
    "print(num3, 'is of type', type(num3))\n",
    "\n",
    "num4 = 8+4j #complex\n",
    "print(num4, 'is of type', type(num4))"
   ]
  },
  {
   "cell_type": "markdown",
   "id": "15020946",
   "metadata": {},
   "source": [
    "#### Scientific Notations\n",
    "Python displays values as scientific notation when they are bigger than 1×1015 or smaller than 1×10-4."
   ]
  },
  {
   "cell_type": "code",
   "execution_count": 10,
   "id": "b0e8d17c",
   "metadata": {},
   "outputs": [
    {
     "name": "stdout",
     "output_type": "stream",
     "text": [
      "1.2345678912345678e+17\n",
      "1e-08\n"
     ]
    }
   ],
   "source": [
    "print(123456789123456789.5)\n",
    "print(0.00000001)"
   ]
  },
  {
   "cell_type": "markdown",
   "id": "bd3444b6",
   "metadata": {},
   "source": [
    "##### Converting scientific notation to decimal values\n",
    "We can suppress scientific notation by using in f-strings."
   ]
  },
  {
   "cell_type": "code",
   "execution_count": 16,
   "id": "df56a45f",
   "metadata": {},
   "outputs": [
    {
     "name": "stdout",
     "output_type": "stream",
     "text": [
      "value without supression:  1.23e-05\n",
      "value with supression: 0.0000123\n",
      "value with supression: 0.00001\n",
      "value with supression: 0.000012\n"
     ]
    }
   ],
   "source": [
    "value = 0.0000123\n",
    "print(\"value without supression: \", value)\n",
    "print(f\"value with supression: {value:.7f}\") #after decimal point, 7 digit will be displayed\n",
    "                                             # f represents float\n",
    "print(f\"value with supression: {value:.5f}\") #after decimal point, 5 digit will be displayed\n",
    "print(f\"value with supression: {value:f}\") #after decimal point, 6 digit will be displayed"
   ]
  },
  {
   "cell_type": "markdown",
   "id": "44d75cd9",
   "metadata": {},
   "source": [
    "##### Converting floating point values to scientific notation\n",
    "We can use the f-string formatter again, using e to represent that we want the values to b expressed in scientific notation."
   ]
  },
  {
   "cell_type": "code",
   "execution_count": 25,
   "id": "4fa80003",
   "metadata": {},
   "outputs": [
    {
     "name": "stdout",
     "output_type": "stream",
     "text": [
      "value without scientific notation:  345000\n",
      "value with scientific notation: 3.450000e+05\n",
      "value with scientific notation: 3.450e+05\n"
     ]
    }
   ],
   "source": [
    "value = 345000\n",
    "print(\"value without scientific notation: \", value)\n",
    "print(f\"value with scientific notation: {value:e}\") #e represents scientific format\n",
    "print(f\"value with scientific notation: {value:.3e}\") # after decimal point, only 3 digits will be displayed"
   ]
  },
  {
   "cell_type": "markdown",
   "id": "6d99a4f7",
   "metadata": {},
   "source": [
    "## Module 5: Data Types"
   ]
  },
  {
   "cell_type": "markdown",
   "id": "6e04d9aa",
   "metadata": {},
   "source": [
    "### List"
   ]
  },
  {
   "cell_type": "code",
   "execution_count": 29,
   "id": "224da6a2",
   "metadata": {},
   "outputs": [
    {
     "name": "stdout",
     "output_type": "stream",
     "text": [
      "List of strings:  ['apple', 'banana', 'grape', 'pineapple']\n",
      "List of integers: [10, 20, 30, 40]\n",
      "List of mixed data types: ['Pranima', 24, 3.9]\n",
      "Empty list: []\n",
      "Empty list using list() []\n",
      "Converting tuple to list: [1, 2, 3, 4]\n"
     ]
    }
   ],
   "source": [
    "#list with strings\n",
    "fruits = [\"apple\", \"banana\", \"grape\", \"pineapple\"]\n",
    "print(\"List of strings: \", fruits)\n",
    "\n",
    "#list with integers\n",
    "numbers = [10, 20, 30, 40]\n",
    "print(\"List of integers:\", numbers)\n",
    "\n",
    "#list with mixed data types\n",
    "mixed_list = [\"Pranima\", 24, 3.9]\n",
    "print(\"List of mixed data types:\", mixed_list)\n",
    "\n",
    "#empty list\n",
    "empty_list = []\n",
    "print(\"Empty list:\", empty_list)\n",
    "\n",
    "#list using list() \n",
    "llist = list()\n",
    "print(\"Empty list using list()\", llist)\n",
    "\n",
    "llist1 = list((1, 2, 3, 4))\n",
    "print(\"Converting tuple to list:\", llist1)"
   ]
  },
  {
   "cell_type": "markdown",
   "id": "7ee0dfa9",
   "metadata": {},
   "source": [
    "#### Accessing list members"
   ]
  },
  {
   "cell_type": "markdown",
   "id": "7e7208e1",
   "metadata": {},
   "source": [
    "#### Indexing and Negative Indexing"
   ]
  },
  {
   "cell_type": "code",
   "execution_count": 125,
   "id": "b0dfbad9",
   "metadata": {},
   "outputs": [
    {
     "name": "stdout",
     "output_type": "stream",
     "text": [
      "Ishar\n",
      "Krisha\n"
     ]
    }
   ],
   "source": [
    "student_names = [\"Pranima\", \"Krisha\", \"Hritik\", \"Ishar\"]\n",
    "\n",
    "#accessing item at index 3\n",
    "print(student_names[3]) #Hritik\n",
    "\n",
    "#accessing item at 3rd last index\n",
    "print(student_names[-3]) #Krisha"
   ]
  },
  {
   "cell_type": "markdown",
   "id": "c7a10790",
   "metadata": {},
   "source": [
    "#### Slicing"
   ]
  },
  {
   "cell_type": "code",
   "execution_count": 126,
   "id": "7babf7d1",
   "metadata": {},
   "outputs": [
    {
     "name": "stdout",
     "output_type": "stream",
     "text": [
      "[23, 7, 89]\n",
      "[89, 9, 78, 5]\n",
      "[12, 34, 23, 7, 89, 9, 78, 5]\n",
      "[12, 7, 78]\n",
      "[5, 78, 9, 89, 7, 23, 34, 12]\n"
     ]
    }
   ],
   "source": [
    "ages = [12, 34, 23, 7, 89, 9, 78, 5]\n",
    "\n",
    "#accessing items from index 2 to 4\n",
    "print(ages[2:5])\n",
    "\n",
    "#items from index 4 to end\n",
    "print(ages[4:])\n",
    "\n",
    "#items from beginning to end\n",
    "print(ages[:])\n",
    "\n",
    "#items from beginning to end with step 3\n",
    "print(ages[::3])\n",
    "\n",
    "#items from end to beginning\n",
    "print(ages[-1::-1])"
   ]
  },
  {
   "cell_type": "markdown",
   "id": "c1b35ad9",
   "metadata": {},
   "source": [
    "#### Iterating through a list in Python"
   ]
  },
  {
   "cell_type": "code",
   "execution_count": 38,
   "id": "37d6f2bb",
   "metadata": {},
   "outputs": [
    {
     "name": "stdout",
     "output_type": "stream",
     "text": [
      "gun\n",
      "sword\n",
      "bomb\n"
     ]
    }
   ],
   "source": [
    "armors = ('gun', 'sword', 'bomb')\n",
    "\n",
    "# iterating through the tuple\n",
    "for armor in armors:\n",
    "    print(armor)"
   ]
  },
  {
   "cell_type": "markdown",
   "id": "020a8283",
   "metadata": {},
   "source": [
    "#### Check if an Item Exists in the Python list"
   ]
  },
  {
   "cell_type": "code",
   "execution_count": 39,
   "id": "5115c2c4",
   "metadata": {},
   "outputs": [
    {
     "name": "stdout",
     "output_type": "stream",
     "text": [
      "True\n"
     ]
    }
   ],
   "source": [
    "armors = ('gun', 'sword', 'bomb')\n",
    "\n",
    "print(\"gun\" in armors)"
   ]
  },
  {
   "cell_type": "markdown",
   "id": "e0c11738",
   "metadata": {},
   "source": [
    "### List Function and methods"
   ]
  },
  {
   "cell_type": "markdown",
   "id": "20b36d43",
   "metadata": {},
   "source": [
    "#### Adding items to list"
   ]
  },
  {
   "cell_type": "code",
   "execution_count": 127,
   "id": "db1dc831",
   "metadata": {},
   "outputs": [
    {
     "name": "stdout",
     "output_type": "stream",
     "text": [
      "Original list: ['Python', 'C++', 'javaScript', 'Java']\n",
      "List after appending 'Go': ['Python', 'C++', 'javaScript', 'Java', 'Go']\n",
      "List after extending with list ['Rust', 'Ruby']: ['Python', 'C++', 'javaScript', 'Java', 'Go', 'Rust', 'Ruby']\n"
     ]
    }
   ],
   "source": [
    "languages = [\"Python\", \"C++\", \"javaScript\", \"Java\"]\n",
    "print(\"Original list:\", languages)\n",
    "\n",
    "#adding an item to the end of the list using append()\n",
    "languages.append(\"Go\")\n",
    "print(\"List after appending 'Go':\", languages)\n",
    "\n",
    "#adding items of lists and other iterables to the end of the list using extend()\n",
    "languages.extend([\"Rust\", \"Ruby\"])\n",
    "print(\"List after extending with list ['Rust', 'Ruby']:\", languages)\n",
    "\n",
    "#inseting an item at the specified index using insert()"
   ]
  },
  {
   "cell_type": "markdown",
   "id": "167b4569",
   "metadata": {},
   "source": [
    "#### Removing items from the list"
   ]
  },
  {
   "cell_type": "markdown",
   "id": "c3e82c13",
   "metadata": {},
   "source": [
    "##### Removing an item from the list using remove()\n",
    "The remove() method removes the first matching element passed as an argument from the list. It does not return any value (returns None)."
   ]
  },
  {
   "cell_type": "code",
   "execution_count": 128,
   "id": "d60afa46",
   "metadata": {},
   "outputs": [
    {
     "name": "stdout",
     "output_type": "stream",
     "text": [
      "Original list: ['Python', 'C++', 'javaScript', 'Java', 'Go', 'Rust', 'Ruby', 'Python']\n",
      "List after removing 'Go': ['Python', 'C++', 'javaScript', 'Java', 'Rust', 'Ruby', 'Python']\n",
      "List after removing a duplicate item 'Python':  ['C++', 'javaScript', 'Java', 'Rust', 'Ruby', 'Python']\n"
     ]
    },
    {
     "ename": "ValueError",
     "evalue": "list.remove(x): x not in list",
     "output_type": "error",
     "traceback": [
      "\u001b[1;31m---------------------------------------------------------------------------\u001b[0m",
      "\u001b[1;31mValueError\u001b[0m                                Traceback (most recent call last)",
      "Cell \u001b[1;32mIn[128], line 15\u001b[0m\n\u001b[0;32m     11\u001b[0m \u001b[38;5;28mprint\u001b[39m(\u001b[38;5;124m\"\u001b[39m\u001b[38;5;124mList after removing a duplicate item \u001b[39m\u001b[38;5;124m'\u001b[39m\u001b[38;5;124mPython\u001b[39m\u001b[38;5;124m'\u001b[39m\u001b[38;5;124m: \u001b[39m\u001b[38;5;124m\"\u001b[39m, languages)\n\u001b[0;32m     13\u001b[0m \u001b[38;5;66;03m#remove an item that doesn't exist\u001b[39;00m\n\u001b[0;32m     14\u001b[0m \u001b[38;5;66;03m#throws ValueError exception\u001b[39;00m\n\u001b[1;32m---> 15\u001b[0m \u001b[43mlanguages\u001b[49m\u001b[38;5;241;43m.\u001b[39;49m\u001b[43mremove\u001b[49m\u001b[43m(\u001b[49m\u001b[38;5;124;43m\"\u001b[39;49m\u001b[38;5;124;43mDart\u001b[39;49m\u001b[38;5;124;43m\"\u001b[39;49m\u001b[43m)\u001b[49m\n",
      "\u001b[1;31mValueError\u001b[0m: list.remove(x): x not in list"
     ]
    }
   ],
   "source": [
    "languages = ['Python', 'C++', 'javaScript', 'Java', 'Go', 'Rust', 'Ruby', 'Python']\n",
    "print(\"Original list:\", languages)\n",
    "\n",
    "#remove an element from the list\n",
    "languages.remove(\"Go\")\n",
    "print(\"List after removing 'Go':\", languages)\n",
    "\n",
    "#remove an item from the list with duplicate items\n",
    "# only the first matching element is removed\n",
    "languages.remove(\"Python\")\n",
    "print(\"List after removing a duplicate item 'Python': \", languages)\n",
    "\n",
    "#remove an item that doesn't exist\n",
    "#throws ValueError exception\n",
    "languages.remove(\"Dart\")\n"
   ]
  },
  {
   "cell_type": "markdown",
   "id": "2c253e58",
   "metadata": {},
   "source": [
    "##### Return and remove item at given index using pop()\n",
    "The pop() method remobes the item at the given index from the list and returns the removed item."
   ]
  },
  {
   "cell_type": "code",
   "execution_count": 135,
   "id": "ad7e2798",
   "metadata": {},
   "outputs": [
    {
     "name": "stdout",
     "output_type": "stream",
     "text": [
      "Removed item at index 3: Java\n",
      "List after removing item at index 3 ['Python', 'C++', 'javaScript', 'Go', 'Rust', 'Ruby', 'Python']\n",
      "Removed item: Python\n",
      "Removed item: Ruby\n",
      "List after popping two items from the last: ['Python', 'C++', 'javaScript', 'Go', 'Rust']\n"
     ]
    }
   ],
   "source": [
    "languages = ['Python', 'C++', 'javaScript', 'Java', 'Go', 'Rust', 'Ruby', 'Python']\n",
    "\n",
    "#return and remove the item at index 3\n",
    "print(\"Removed item at index 3:\", languages.pop(3))\n",
    "print(\"List after removing item at index 3\", languages)\n",
    "\n",
    "#return and remove the last item\n",
    "print(\"Removed item:\", languages.pop()) #without passing argument\n",
    "print(\"Removed item:\", languages.pop(-1)) #using negative indexing\n",
    "print(\"List after popping two items from the last:\", languages)\n",
    "\n",
    "#remove all items from the list"
   ]
  },
  {
   "cell_type": "markdown",
   "id": "7427173b",
   "metadata": {},
   "source": [
    "##### Remove all items from the list using clear()\n",
    "The clear() method removes all items from the list."
   ]
  },
  {
   "cell_type": "code",
   "execution_count": null,
   "id": "c7e1d717",
   "metadata": {},
   "outputs": [],
   "source": [
    "numbers = [1, 2, 3, 4, 5]\n",
    "\n",
    "#remove all elements form the list\n",
    "numbers.clear()\n",
    "print(numbers)"
   ]
  },
  {
   "cell_type": "markdown",
   "id": "e9238d37",
   "metadata": {},
   "source": [
    "#### Other methods"
   ]
  },
  {
   "cell_type": "markdown",
   "id": "316992b4",
   "metadata": {},
   "source": [
    "#### count()\n",
    "The count() method counts the number of times the specified element appears in the list. "
   ]
  },
  {
   "cell_type": "code",
   "execution_count": 139,
   "id": "01d74219",
   "metadata": {},
   "outputs": [
    {
     "name": "stdout",
     "output_type": "stream",
     "text": [
      "Count of 1: 3\n",
      "Count of 10: 0\n",
      "Count of (1, 1): 2\n",
      "Count of [3, 2]: 1\n",
      "2\n"
     ]
    }
   ],
   "source": [
    "#count the occurences of 1 from the list of integers\n",
    "numbers = [1, 2, 3, 4, 1, 7, 4, 2, 1]\n",
    "print(\"Count of 1:\", numbers.count(1))\n",
    "\n",
    "#count the ocurrence of non-existent number 10 from the list\n",
    "print(\"Count of 10:\", numbers.count(10))\n",
    "\n",
    "#count tuple and list elements inside list\n",
    "eg_list = [(1, 1), [2, 4], (1, 1), [3, 2],(3,2), 7.9]\n",
    "\n",
    "eg_string = [\"asim\", \"pranima\", \"asim\", \"ayush\"]\n",
    "print(\"Count of (1, 1):\", eg_list.count((1,1)))\n",
    "print(\"Count of [3, 2]:\", eg_list.count([3, 2]))\n",
    "print(eg_string.count(\"asim\"))"
   ]
  },
  {
   "cell_type": "markdown",
   "id": "7f2adde8",
   "metadata": {},
   "source": [
    "#### sort()\n",
    "By default, sort() doesn't require any extra parameters. However, it has two optional parameters:\n",
    "\n",
    "- reverse - If True, the sorted list is reversed (or sorted in Descending order)\n",
    "- key - function that serves as a key for the sort comparison"
   ]
  },
  {
   "cell_type": "code",
   "execution_count": 25,
   "id": "353b22de",
   "metadata": {},
   "outputs": [
    {
     "name": "stdout",
     "output_type": "stream",
     "text": [
      "-------------------------Sorting list of numbers--------------------------\n",
      "Original list of numbers: [34, 54, 23, 65, 74, 93, 15]\n",
      "Sorted list in ascending order: [15, 23, 34, 54, 65, 74, 93]\n",
      "Sorted list in descending order: [93, 74, 65, 54, 34, 23, 15]\n",
      "\n",
      "\n",
      "--------------------sorting list of strings--------------------\n",
      "Original list of strings ['Kathmandu', 'Hetauda', 'Tokyo', 'biratnagar', 'pokhara', 'ahemdabad']\n",
      "Sorted list of strings in ascending order ['Hetauda', 'Kathmandu', 'Tokyo', 'ahemdabad', 'biratnagar', 'pokhara']\n",
      "\n",
      "\n",
      "--------------------------Sorting list of lists and tuples--------------------------\n",
      "Original list of lists: [[1, 2], [23, 1], [2, 12], [5, 6]]\n",
      "Sorted list by 2nd element [[1, 2], [2, 12], [5, 6], [23, 1]]\n",
      "Original list of tuples: [(1, 2), (23, 1), (2, 12), (5, 6)]\n",
      "Sorted list by 2nd element [(23, 1), (1, 2), (5, 6), (2, 12)]\n",
      "\n",
      "\n",
      "-------------------------Sorting list of dictionaries--------------------------\n",
      "Original list of employees:\n",
      " [{'Name': 'Alan Turing', 'age': 25, 'salary': 10000}, {'Name': 'Sharon Lin', 'age': 30, 'salary': 8000}, {'Name': 'John Hopkins', 'age': 18, 'salary': 1000}, {'Name': 'Mikhail Tal', 'age': 40, 'salary': 15000}]\n",
      "\n",
      "\n",
      "Sorted list by salary of employees:\n",
      " [{'Name': 'John Hopkins', 'age': 18, 'salary': 1000}, {'Name': 'Sharon Lin', 'age': 30, 'salary': 8000}, {'Name': 'Alan Turing', 'age': 25, 'salary': 10000}, {'Name': 'Mikhail Tal', 'age': 40, 'salary': 15000}]\n",
      "\n",
      "\n",
      "Sorted list by name using lamba function:\n",
      " [{'Name': 'Alan Turing', 'age': 25, 'salary': 10000}, {'Name': 'John Hopkins', 'age': 18, 'salary': 1000}, {'Name': 'Mikhail Tal', 'age': 40, 'salary': 15000}, {'Name': 'Sharon Lin', 'age': 30, 'salary': 8000}]\n"
     ]
    }
   ],
   "source": [
    "print(\"-------------------------Sorting list of numbers--------------------------\")\n",
    "\n",
    "numbers = [34, 54,23, 65, 74, 93, 15]\n",
    "print(\"Original list of numbers:\", numbers)\n",
    "\n",
    "#sort the list in ascending order\n",
    "numbers.sort()\n",
    "print(\"Sorted list in ascending order:\", numbers)\n",
    "\n",
    "#sort the list in descending order\n",
    "numbers.sort(reverse=True)\n",
    "print(\"Sorted list in descending order:\", numbers)\n",
    "\n",
    "print(\"\\n\")\n",
    "\n",
    "print(\"--------------------sorting list of strings--------------------\")\n",
    "#strings are sorted according to unicode\n",
    "cities = [\"Kathmandu\", \"Hetauda\", \"Tokyo\", \"biratnagar\", \"pokhara\", \"ahemdabad\"]\n",
    "print(\"Original list of strings\", cities)\n",
    "cities.sort()\n",
    "print(\"Sorted list of strings in ascending order\", cities)\n",
    "print(\"\\n\")\n",
    "\n",
    "print(\"--------------------------Sorting list of lists and tuples--------------------------\")\n",
    "\n",
    "#by default list is sorted by 1st element in the tuples/lists inside list\n",
    "listoflists = [[1,2], [23, 1], [2, 12], [5, 6]]\n",
    "print(\"Original list of lists:\", listoflists)\n",
    "listoflists.sort()\n",
    "print(\"Sorted list by 2nd element\", listoflists)\n",
    "\n",
    "#sort the list of tuple or list with custom function using key\n",
    "def second(ele):\n",
    "    return ele[1]\n",
    "listoftuples = [(1,2), (23, 1), (2, 12), (5, 6)]\n",
    "print(\"Original list of tuples:\", listoftuples)\n",
    "listoftuples.sort(key=second)\n",
    "print(\"Sorted list by 2nd element\", listoftuples)\n",
    "print(\"\\n\")\n",
    "\n",
    "print(\"-------------------------Sorting list of dictionaries--------------------------\")\n",
    "\n",
    "#sort list of dictionary with custom function using key\n",
    "employees = [\n",
    "    {'Name': 'Alan Turing', 'age': 25, 'salary': 10000},\n",
    "    {'Name': 'Sharon Lin', 'age': 30, 'salary': 8000},\n",
    "    {'Name': 'John Hopkins', 'age': 18, 'salary': 1000},\n",
    "    {'Name': 'Mikhail Tal', 'age': 40, 'salary': 15000},\n",
    "]\n",
    "print(\"Original list of employees:\\n\", employees)\n",
    "print(\"\\n\")\n",
    "\n",
    "def get_salary(employee):\n",
    "    return employee.get(\"salary\")\n",
    "\n",
    "employees.sort(key=get_salary)\n",
    "print(\"Sorted list by salary of employees:\\n\", employees)\n",
    "print(\"\\n\")\n",
    "\n",
    "#using lambda function to sort list of dictionary\n",
    "employees.sort(key=lambda x:x.get(\"Name\"))\n",
    "print(\"Sorted list by name using lamba function:\\n\", employees)"
   ]
  },
  {
   "cell_type": "markdown",
   "id": "2bc6844b",
   "metadata": {},
   "source": [
    "#### copy()\n",
    "copy() is used to copy a list instead of assignment operator when you need the original list unchanged when the copied list is modified."
   ]
  },
  {
   "cell_type": "markdown",
   "id": "5d27db65",
   "metadata": {},
   "source": [
    "##### Copying a list using copy()\n",
    "Original list is unchanged when copied list is modified."
   ]
  },
  {
   "cell_type": "code",
   "execution_count": 35,
   "id": "06439557",
   "metadata": {},
   "outputs": [
    {
     "name": "stdout",
     "output_type": "stream",
     "text": [
      "Copied list: [2, 3, 5, 7]\n",
      "Original list after modifying copy [2, 3, 5, 7]\n"
     ]
    }
   ],
   "source": [
    "#returns the shallow copy of the list\n",
    "prime_numbers = [2, 3, 5, 7]\n",
    "prime_numbers1 = prime_numbers.copy()\n",
    "print(\"Copied list:\", prime_numbers1)\n",
    "\n",
    "prime_numbers1[2] = 17\n",
    "print(\"Original list after modifying copy\", prime_numbers)"
   ]
  },
  {
   "cell_type": "markdown",
   "id": "79a210b3",
   "metadata": {},
   "source": [
    "##### Copying a list using =\n",
    "Original list is changed when copied list is modified."
   ]
  },
  {
   "cell_type": "code",
   "execution_count": 36,
   "id": "ab07e733",
   "metadata": {},
   "outputs": [
    {
     "name": "stdout",
     "output_type": "stream",
     "text": [
      "Copied list: [2, 4, 6, 8]\n",
      "Original list after modifying copy [2, 4, 6, 8, 10]\n"
     ]
    }
   ],
   "source": [
    "even_numbers = [2, 4, 6, 8]\n",
    "even_numbers1 = even_numbers\n",
    "print(\"Copied list:\", even_numbers1)\n",
    "even_numbers1.append(10)\n",
    "print(\"Original list after modifying copy\", even_numbers)"
   ]
  },
  {
   "cell_type": "markdown",
   "id": "cc489b9b",
   "metadata": {},
   "source": [
    "##### Copying a list using Slicing\n",
    "Original list is unchanged when copied list is modified."
   ]
  },
  {
   "cell_type": "code",
   "execution_count": 37,
   "id": "e3f34db3",
   "metadata": {},
   "outputs": [
    {
     "name": "stdout",
     "output_type": "stream",
     "text": [
      "Copied list: [1, 3, 5, 7]\n",
      "Original list after modifying copy [1, 3, 5, 7]\n"
     ]
    }
   ],
   "source": [
    "odd_numbers = [1, 3, 5, 7]\n",
    "odd_numbers1 = odd_numbers[:]\n",
    "print(\"Copied list:\", odd_numbers1)\n",
    "odd_numbers1.pop()\n",
    "print(\"Original list after modifying copy\", odd_numbers)"
   ]
  },
  {
   "cell_type": "markdown",
   "id": "4ca89529",
   "metadata": {},
   "source": [
    "### Nested List"
   ]
  },
  {
   "cell_type": "markdown",
   "id": "f381b6d0",
   "metadata": {},
   "source": [
    "#### List Comprehension"
   ]
  },
  {
   "cell_type": "code",
   "execution_count": 54,
   "id": "ceba16e5",
   "metadata": {},
   "outputs": [
    {
     "name": "stdout",
     "output_type": "stream",
     "text": [
      "[0, 1, 2, 3, 4, 5, 6, 7, 8, 9]\n",
      "[[0, 1, 2, 3], [0, 1, 2, 3], [0, 1, 2, 3], [0, 1, 2, 3]]\n",
      "[0, 1, 2, 3, 0, 1, 2, 3, 0, 1, 2, 3, 0, 1, 2, 3]\n",
      "0\n",
      "1\n",
      "2\n",
      "3\n",
      "0\n",
      "1\n",
      "2\n",
      "3\n",
      "0\n",
      "1\n",
      "2\n",
      "3\n",
      "0\n",
      "1\n",
      "2\n",
      "3\n"
     ]
    }
   ],
   "source": [
    "#list comprehension\n",
    "n = [i for i in range(10)]\n",
    "print(n)\n",
    "\n",
    "#list comprehension for nested list\n",
    "matrix = [[j for j in range(4)] for i in range(4)]\n",
    "print(matrix)\n",
    "\n",
    "#flatten matrix\n",
    "flat_matrix = [element for sublist in matrix for element in sublist ]\n",
    "print(flat_matrix)\n",
    "\n"
   ]
  },
  {
   "cell_type": "markdown",
   "id": "3729bac3",
   "metadata": {},
   "source": [
    "##### Program to count unique values inside a list"
   ]
  },
  {
   "cell_type": "code",
   "execution_count": 15,
   "id": "0d0b47f6",
   "metadata": {},
   "outputs": [
    {
     "name": "stdout",
     "output_type": "stream",
     "text": [
      "3\n"
     ]
    }
   ],
   "source": [
    "things = [\"pen\", \"book\", \"copy\", \"pen\", \"charger\", \"wire\", \"wire\"]\n",
    "\n",
    "unique_count = 0\n",
    "for thing in things:\n",
    "    if things.count(thing) == 1:\n",
    "        unique_count += 1\n",
    "print(unique_count)\n",
    "    "
   ]
  },
  {
   "cell_type": "markdown",
   "id": "2467bd1e",
   "metadata": {},
   "source": [
    "### Intro to tuples and dictionaries"
   ]
  },
  {
   "cell_type": "code",
   "execution_count": 37,
   "id": "55d69030",
   "metadata": {},
   "outputs": [
    {
     "name": "stdout",
     "output_type": "stream",
     "text": [
      "Empty tuple ()\n",
      "Tuple of integers (1, 2, 3)\n",
      "Tuple of mixed data types (1, 'cat', 3.4)\n",
      "Nested tuple ('dog', [8, 4, 5], (1, 2, 4))\n",
      "hi\n",
      "('hi',)\n",
      "('hi', 'hello')\n"
     ]
    }
   ],
   "source": [
    "# Empty tuple\n",
    "my_tuple = ()\n",
    "print(\"Empty tuple\", my_tuple)\n",
    "\n",
    "# Tuple having integers\n",
    "my_tuple1 = (1, 2, 3)\n",
    "print(\"Tuple of integers\", my_tuple1)\n",
    "\n",
    "# tuple with mixed datatypes\n",
    "my_tuple2 = (1, \"cat\", 3.4)\n",
    "print(\"Tuple of mixed data types\", my_tuple2)\n",
    "\n",
    "# nested tuple\n",
    "my_tuple3 = (\"dog\", [8, 4, 5], (1, 2, 4))\n",
    "print(\"Nested tuple\", my_tuple3)\n",
    "\n",
    "# string vs tuple with one element\n",
    "my_string4 = (\"hi\")\n",
    "my_tuple4 = (\"hi\",) #comma required for tuple\n",
    "print(my_string4)\n",
    "print(my_tuple4)\n",
    "\n",
    "#tuple without paranthesis\n",
    "my_tuple5 = \"hi\", \"hello\", #paranthesis is optional for tuple\n",
    "print(my_tuple5)"
   ]
  },
  {
   "cell_type": "markdown",
   "id": "3ec3c87d",
   "metadata": {},
   "source": [
    "#### List vs Tuple"
   ]
  },
  {
   "cell_type": "markdown",
   "id": "16689fc4",
   "metadata": {},
   "source": [
    "- Accessing tuple elements using indexing, negative indexing, and slicing is same as that in list.\n",
    "- Iterating through a tuple in python is also same as that in list.\n",
    "- Checking if an item exits in python tuple is also same as that in list.\n",
    "- However, tuple is immutable.\n",
    "- Because of immutable nature, only some list methods are applicable to tuples, which are \n",
    "    - count()\n",
    "    - index()."
   ]
  },
  {
   "cell_type": "markdown",
   "id": "a9957522",
   "metadata": {},
   "source": [
    "##### Advantages of Tuple over List in Python\n",
    "Since tuples are quite similar to lists, both of them are used in similar situations.\n",
    "\n",
    "However, there are certain advantages of implementing a tuple over a list:\n",
    "\n",
    "- We generally use tuples for heterogeneous (different) data types and lists for homogeneous (similar) data types.\n",
    "- Since tuples are immutable, iterating through a tuple is faster than with a list. So there is a slight performance boost.\n",
    "- Tuples that contain immutable elements can be used as a key for a dictionary. With lists, this is not possible.\n",
    "- If you have data that doesn't change, implementing it as tuple will guarantee that it remains write-protected."
   ]
  },
  {
   "cell_type": "markdown",
   "id": "b0888049",
   "metadata": {},
   "source": [
    "### Dictionaries"
   ]
  },
  {
   "cell_type": "code",
   "execution_count": null,
   "id": "c2b8930b",
   "metadata": {},
   "outputs": [],
   "source": []
  }
 ],
 "metadata": {
  "kernelspec": {
   "display_name": "Python 3 (ipykernel)",
   "language": "python",
   "name": "python3"
  },
  "language_info": {
   "codemirror_mode": {
    "name": "ipython",
    "version": 3
   },
   "file_extension": ".py",
   "mimetype": "text/x-python",
   "name": "python",
   "nbconvert_exporter": "python",
   "pygments_lexer": "ipython3",
   "version": "3.9.5"
  }
 },
 "nbformat": 4,
 "nbformat_minor": 5
}
